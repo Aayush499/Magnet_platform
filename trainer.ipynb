{
 "cells": [
  {
   "cell_type": "code",
   "execution_count": 71,
   "id": "ae64c638",
   "metadata": {},
   "outputs": [],
   "source": [
    "import numpy as np\n",
    "import torch\n",
    "from torch import nn, optim\n",
    "from torch.utils.data import DataLoader, TensorDataset, Dataset\n",
    "import matplotlib.pyplot as plt\n",
    "import cv2\n",
    "import time\n",
    "import os\n",
    "import csv\n",
    "import pandas as pd\n",
    "from sklearn.model_selection import train_test_split\n",
    "import torch.nn as nn\n",
    "import joblib"
   ]
  },
  {
   "cell_type": "code",
   "execution_count": 72,
   "id": "e7cf6536",
   "metadata": {},
   "outputs": [],
   "source": [
    " \n",
    "MAGNET_STRENGTH = 0.058477513103711194\n",
    " \n",
    "\n",
    "sensor_mask = [True, True, True, True, True, True, True, False]\n",
    "WORKING_SENSOR_COUNT = sum(sensor_mask)\n",
    "TOTAL_SENSOR_COUNT = len(sensor_mask)\n",
    "\n",
    "surface_points = {\n",
    "    4: (-.13, .1325, 0),\n",
    "    5: (0, .1325, 0), \n",
    "    8: (.13, .1325, 0),\n",
    "    9: (-.13, 0, 0),\n",
    "    12: (0, 0, 0),\n",
    "    13: (.13, 0, 0),\n",
    "    16: (-.13, -.1325, 0),\n",
    "    17: (0, -.1325, 0),\n",
    "    20: (.13, -.1325, 0)\n",
    "}\n",
    "\n",
    "sensor_number_to_aruco_id_map = {\n",
    "    0: 16,\n",
    "    1: 17,\n",
    "    2: 20,\n",
    "    3: 13,\n",
    "    4: 8,\n",
    "    5: 5,\n",
    "    6: 4,\n",
    "    7: 9,  # broken sensor\n",
    "}\n",
    "\n",
    "#get full sensor positions from aruco ids positions, subtract 2.4 csm from the z axis of each aruco id position\n",
    "full_sensor_positions = np.array([surface_points[sensor_number_to_aruco_id_map[i]] for i in range(TOTAL_SENSOR_COUNT)])\n",
    "full_sensor_positions[:, 2] -= 0.024  # subtract 2.4 cm from z axis to get sensor positions\n",
    "\n",
    "sensor_positions = full_sensor_positions[sensor_mask]\n",
    "# #get centroid of all sensors\n",
    "# centroid = np.mean(full_sensor_positions, axis=0)\n",
    "\n",
    "# #center all sensor positions around centroid\n",
    "# full_sensor_positions -= centroid\n",
    "# sensor_positions = full_sensor_positions[sensor_mask]\n",
    "\n",
    " "
   ]
  },
  {
   "cell_type": "code",
   "execution_count": null,
   "id": "65f8c649",
   "metadata": {},
   "outputs": [
    {
     "ename": "SyntaxError",
     "evalue": "invalid syntax (4237546175.py, line 53)",
     "output_type": "error",
     "traceback": [
      "  \u001b[36mCell\u001b[39m\u001b[36m \u001b[39m\u001b[32mIn[73]\u001b[39m\u001b[32m, line 53\u001b[39m\n\u001b[31m    \u001b[39m\u001b[31mscaler_pos =\u001b[39m\n                  ^\n\u001b[31mSyntaxError\u001b[39m\u001b[31m:\u001b[39m invalid syntax\n"
     ]
    }
   ],
   "source": [
    "data = pd.read_csv('_data_collected/magnet_data.csv')\n",
    "\n",
    "def euler_to_quaternion(roll, pitch, yaw):\n",
    "    # roll = rx, pitch = ry, yaw = rz\n",
    "    qx = np.sin(roll/2) * np.cos(pitch/2) * np.cos(yaw/2) - np.cos(roll/2) * np.sin(pitch/2) * np.sin(yaw/2)\n",
    "    qy = np.cos(roll/2) * np.sin(pitch/2) * np.cos(yaw/2) + np.sin(roll/2) * np.cos(pitch/2) * np.sin(yaw/2)\n",
    "    qz = np.cos(roll/2) * np.cos(pitch/2) * np.sin(yaw/2) - np.sin(roll/2) * np.sin(pitch/2) * np.cos(yaw/2)\n",
    "    qw = np.cos(roll/2) * np.cos(pitch/2) * np.cos(yaw/2) + np.sin(roll/2) * np.sin(pitch/2) * np.sin(yaw/2)\n",
    "    return np.array([qx, qy, qz, qw])\n",
    "\n",
    "\n",
    "features = []\n",
    "targets = []\n",
    "for idx, row in data.iterrows():\n",
    "    x, y, z = row[['x', 'y', 'z']].values.astype(np.float32)\n",
    "    rx, ry, rz = row[['rx', 'ry', 'rz']].values.astype(np.float32)\n",
    "    # ry = 0.0  # Ignore y-axis rotation\n",
    "\n",
    "    # Convert Euler angles to quaternion\n",
    "    quat = euler_to_quaternion(rx, ry, rz)  # [qx, qy, qz, qw]\n",
    "\n",
    "    # Target: position + quaternion\n",
    "    target = np.concatenate([[x, y, z], quat]).astype(np.float32)\n",
    "     \n",
    "    sensor_tokens = []\n",
    "    for i, mask in enumerate(sensor_mask):\n",
    "        if mask:\n",
    "            start_col = 6 + i*3\n",
    "            readings = row.iloc[start_col:start_col+3].values.astype(np.float32)\n",
    "            readings_SI = readings * 1e-6  # Convert µT to T\n",
    "            pos = sensor_positions[i]\n",
    "            token = np.concatenate([pos, readings_SI, [MAGNET_STRENGTH]])  # [sensor_x, sensor_y, sensor_z, reading_x, reading_y, reading_z, strength]\n",
    "            sensor_tokens.append(token)\n",
    "    features.append(np.stack(sensor_tokens))\n",
    "    targets.append(target)\n",
    "\n",
    "\n",
    "features = np.array(features)  # shape (N, 7, 7)\n",
    "targets = np.array(targets)    # shape (N, 7)\n",
    "\n",
    "from sklearn.preprocessing import StandardScaler\n",
    "sensor_positions_all = []  # positions for all samples\n",
    "sensor_readings_all = []   # readings for all samples\n",
    "magnet_strengths_all = []  # strengths for all samples\n",
    "\n",
    "for sample in features:  # features shape (N, 7, 7)\n",
    "    for token in sample:\n",
    "        sensor_positions_all.append(token[:3])\n",
    "        sensor_readings_all.append(token[3:6])\n",
    "        magnet_strengths_all.append(token[6])\n",
    "\n",
    "# Fit separate scalers\n",
    "scaler_pos =  \n",
    "scaler_readings = StandardScaler().fit(sensor_readings_all)\n",
    "scaler_strength = StandardScaler().fit(np.array(magnet_strengths_all).reshape(-1, 1))\n",
    "\n",
    "# Apply normalization per sample\n",
    "features_norm = []\n",
    "for sample in features:\n",
    "    tokens_norm = []\n",
    "    for token in sample:\n",
    "        pos_norm = scaler_pos.transform(token[:3].reshape(1, -1)).flatten()\n",
    "        read_norm = scaler_readings.transform(token[3:6].reshape(1, -1)).flatten()\n",
    "        str_norm = scaler_strength.transform(token[6].reshape(1, -1)).flatten()\n",
    "        token_norm = np.concatenate([pos_norm, read_norm, str_norm])\n",
    "        tokens_norm.append(token_norm)\n",
    "    features_norm.append(tokens_norm)\n",
    "features_norm = np.array(features_norm)\n",
    "\n",
    "# Save all scalers\n",
    "joblib.dump(scaler_pos, 'scaler_pos.joblib')\n",
    "joblib.dump(scaler_readings, 'scaler_readings.joblib')\n",
    "joblib.dump(scaler_strength, 'scaler_strength.joblib')\n",
    "# Normalize targets\n",
    "scaler_y = StandardScaler()\n",
    "targets_norm = scaler_y.fit_transform(targets)\n",
    "\n",
    "# Train/val/test split (e.g., 70/15/15) and shuffle\n",
    "X_train, X_temp, y_train, y_temp = train_test_split(features_norm, targets_norm, test_size=0.3 , shuffle = False)\n",
    "X_val, X_test, y_val, y_test = train_test_split(X_temp, y_temp, test_size=0.5 , shuffle = False)\n",
    "\n",
    "\n"
   ]
  },
  {
   "cell_type": "code",
   "execution_count": 75,
   "id": "8b05ba8a",
   "metadata": {},
   "outputs": [
    {
     "data": {
      "text/plain": [
       "(23495, 7)"
      ]
     },
     "execution_count": 75,
     "metadata": {},
     "output_type": "execute_result"
    }
   ],
   "source": [
    "targets.shape"
   ]
  },
  {
   "cell_type": "code",
   "execution_count": null,
   "id": "ac9339df",
   "metadata": {},
   "outputs": [
    {
     "data": {
      "text/plain": [
       "(681, 7, 7)"
      ]
     },
     "execution_count": 70,
     "metadata": {},
     "output_type": "execute_result"
    }
   ],
   "source": [
    "features.shape"
   ]
  },
  {
   "cell_type": "code",
   "execution_count": null,
   "id": "e137a9ad",
   "metadata": {},
   "outputs": [
    {
     "data": {
      "text/plain": [
       "['scaler_y.joblib']"
      ]
     },
     "execution_count": 55,
     "metadata": {},
     "output_type": "execute_result"
    }
   ],
   "source": [
    "import joblib\n",
    " \n",
    "joblib.dump(scaler_y, 'scaler_y.joblib')\n"
   ]
  },
  {
   "cell_type": "code",
   "execution_count": null,
   "id": "5f865bd6",
   "metadata": {},
   "outputs": [],
   "source": [
    "import torch\n",
    "from torch.utils.data import Dataset, DataLoader\n",
    "\n",
    "class MagnetDataset(Dataset):\n",
    "    def __init__(self, features, targets):\n",
    "        self.features = torch.tensor(features, dtype=torch.float)\n",
    "        self.targets = torch.tensor(targets, dtype=torch.float)\n",
    "    def __len__(self):\n",
    "        return len(self.features)\n",
    "    def __getitem__(self, idx):\n",
    "        return self.features[idx], self.targets[idx]\n",
    "\n",
    "train_dataset = MagnetDataset(X_train, y_train)\n",
    "val_dataset = MagnetDataset(X_val, y_val)\n",
    "test_dataset = MagnetDataset(X_test, y_test)\n",
    "\n",
    "train_loader = DataLoader(train_dataset, batch_size=32, shuffle=True)\n",
    "val_loader = DataLoader(val_dataset, batch_size=32)\n",
    "test_loader = DataLoader(test_dataset, batch_size=32)\n"
   ]
  },
  {
   "cell_type": "code",
   "execution_count": null,
   "id": "7906542d",
   "metadata": {},
   "outputs": [
    {
     "name": "stderr",
     "output_type": "stream",
     "text": [
      "/home/aayush-ubuntu/miniconda3/envs/magnet/lib/python3.13/site-packages/torch/nn/modules/transformer.py:392: UserWarning: enable_nested_tensor is True, but self.use_nested_tensor is False because encoder_layer.self_attn.batch_first was not True(use batch_first for better inference performance)\n",
      "  warnings.warn(\n"
     ]
    }
   ],
   "source": [
    "\n",
    "\n",
    "class MagnetTransformer(nn.Module):\n",
    "    def __init__(self, d_model=64, nhead=4, num_layers=2, n_tokens=7, in_dim=7, out_dim=7):\n",
    "        super().__init__()\n",
    "        self.input_proj = nn.Linear(in_dim, d_model)\n",
    "        encoder_layer = nn.TransformerEncoderLayer(d_model=d_model, nhead=nhead)\n",
    "        self.encoder = nn.TransformerEncoder(encoder_layer, num_layers=num_layers)\n",
    "        self.agg = nn.Linear(n_tokens * d_model, d_model)\n",
    "        self.head = nn.Linear(d_model, out_dim)\n",
    "    def forward(self, x):\n",
    "        x = self.input_proj(x)\n",
    "        x = x.permute(1, 0, 2)\n",
    "        x = self.encoder(x)\n",
    "        x = x.permute(1, 0, 2)\n",
    "        x = x.reshape(x.shape[0], -1)\n",
    "        x = self.agg(x)\n",
    "        out = self.head(x)\n",
    "        return out\n",
    "\n",
    "model = MagnetTransformer()\n"
   ]
  },
  {
   "cell_type": "code",
   "execution_count": null,
   "id": "65c55012",
   "metadata": {},
   "outputs": [],
   "source": [
    "import torch\n",
    "import torch.nn as nn\n",
    "\n",
    "class SensorViTRegressor(nn.Module):\n",
    "    def __init__(self, \n",
    "                 n_tokens=7,        # number of sensors (tokens)\n",
    "                 in_dim=7,          # features per sensor\n",
    "                 d_model=128,       # transformer model dim\n",
    "                 nhead=8,           # attention heads\n",
    "                 num_layers=4,      # transformer layers\n",
    "                 out_dim=7,         # regression output [pos, quat]\n",
    "                 patch_dropout=0.1,\n",
    "                 mlp_dim=256,\n",
    "                 use_positional_encoding=True):\n",
    "        super().__init__()\n",
    "        \n",
    "        # Patch embedding: Linear projection from in_dim to d_model\n",
    "        self.patch_embed = nn.Linear(in_dim, d_model)\n",
    "        \n",
    "        # Optional positional embedding\n",
    "        if use_positional_encoding:\n",
    "            self.pos_embed = nn.Parameter(torch.zeros(1, n_tokens, d_model))\n",
    "        else:\n",
    "            self.pos_embed = None\n",
    "        \n",
    "        # Transformer encoder stack\n",
    "        encoder_layer = nn.TransformerEncoderLayer(\n",
    "            d_model=d_model, nhead=nhead,\n",
    "            dim_feedforward=mlp_dim,\n",
    "            dropout=patch_dropout,\n",
    "            batch_first=True\n",
    "        )\n",
    "        self.encoder = nn.TransformerEncoder(encoder_layer, num_layers=num_layers)\n",
    "        \n",
    "        # Flatten all tokens for regression output\n",
    "        self.pre_head = nn.Linear(n_tokens * d_model, mlp_dim)\n",
    "        self.act = nn.ReLU()\n",
    "        self.head = nn.Linear(mlp_dim, out_dim)\n",
    "        \n",
    "    def forward(self, x):\n",
    "        # x: (batch_size, n_tokens, in_dim)\n",
    "        x = self.patch_embed(x)  # (batch_size, n_tokens, d_model)\n",
    "        if self.pos_embed is not None:\n",
    "            x = x + self.pos_embed  # add positional encoding\n",
    "        x = self.encoder(x)  # (batch_size, n_tokens, d_model)\n",
    "        x = x.reshape(x.shape[0], -1)  # flatten all tokens\n",
    "        x = self.pre_head(x)\n",
    "        x = self.act(x)\n",
    "        out = self.head(x)\n",
    "        return out  # (batch_size, out_dim)\n"
   ]
  },
  {
   "cell_type": "code",
   "execution_count": null,
   "id": "8774ba25",
   "metadata": {},
   "outputs": [
    {
     "name": "stdout",
     "output_type": "stream",
     "text": [
      "Output shape: torch.Size([10, 7])\n"
     ]
    }
   ],
   "source": [
    "# Setup\n",
    "device = torch.device('cuda' if torch.cuda.is_available() else 'cpu')\n",
    "model = SensorViTRegressor().to(device)\n",
    "\n",
    "# Dummy input (for 7 sensors, each with 7 features)\n",
    "batch_size = 10\n",
    "input_tensor = torch.randn(batch_size, 7, 7).to(device)\n",
    "output = model(input_tensor)  # shape (batch_size, 7)\n",
    "print(\"Output shape:\", output.shape)\n"
   ]
  },
  {
   "cell_type": "code",
   "execution_count": null,
   "id": "a82b463e",
   "metadata": {},
   "outputs": [
    {
     "name": "stderr",
     "output_type": "stream",
     "text": [
      "Epoch 1 [Train]: 100%|██████████| 514/514 [00:05<00:00, 92.58it/s] \n",
      "Epoch 1 [Val]: 100%|██████████| 111/111 [00:00<00:00, 701.16it/s]\n"
     ]
    },
    {
     "name": "stdout",
     "output_type": "stream",
     "text": [
      "Epoch 1: train_loss=0.222776, val_loss=0.721345\n"
     ]
    },
    {
     "name": "stderr",
     "output_type": "stream",
     "text": [
      "Epoch 2 [Train]: 100%|██████████| 514/514 [00:05<00:00, 100.07it/s]\n",
      "Epoch 2 [Val]: 100%|██████████| 111/111 [00:00<00:00, 750.76it/s]\n"
     ]
    },
    {
     "name": "stdout",
     "output_type": "stream",
     "text": [
      "Epoch 2: train_loss=0.181198, val_loss=0.715832\n"
     ]
    },
    {
     "name": "stderr",
     "output_type": "stream",
     "text": [
      "Epoch 3 [Train]: 100%|██████████| 514/514 [00:04<00:00, 110.88it/s]\n",
      "Epoch 3 [Val]: 100%|██████████| 111/111 [00:00<00:00, 704.95it/s]\n"
     ]
    },
    {
     "name": "stdout",
     "output_type": "stream",
     "text": [
      "Epoch 3: train_loss=0.176482, val_loss=0.740460\n"
     ]
    },
    {
     "name": "stderr",
     "output_type": "stream",
     "text": [
      "Epoch 4 [Train]: 100%|██████████| 514/514 [00:04<00:00, 110.52it/s]\n",
      "Epoch 4 [Val]: 100%|██████████| 111/111 [00:00<00:00, 787.16it/s]\n"
     ]
    },
    {
     "name": "stdout",
     "output_type": "stream",
     "text": [
      "Epoch 4: train_loss=0.175532, val_loss=0.748465\n"
     ]
    },
    {
     "name": "stderr",
     "output_type": "stream",
     "text": [
      "Epoch 5 [Train]: 100%|██████████| 514/514 [00:04<00:00, 110.11it/s]\n",
      "Epoch 5 [Val]: 100%|██████████| 111/111 [00:00<00:00, 753.00it/s]\n"
     ]
    },
    {
     "name": "stdout",
     "output_type": "stream",
     "text": [
      "Epoch 5: train_loss=0.172420, val_loss=0.674681\n"
     ]
    },
    {
     "name": "stderr",
     "output_type": "stream",
     "text": [
      "Epoch 6 [Train]: 100%|██████████| 514/514 [00:04<00:00, 111.87it/s]\n",
      "Epoch 6 [Val]: 100%|██████████| 111/111 [00:00<00:00, 776.88it/s]\n"
     ]
    },
    {
     "name": "stdout",
     "output_type": "stream",
     "text": [
      "Epoch 6: train_loss=0.173009, val_loss=0.700093\n"
     ]
    },
    {
     "name": "stderr",
     "output_type": "stream",
     "text": [
      "Epoch 7 [Train]: 100%|██████████| 514/514 [00:04<00:00, 112.32it/s]\n",
      "Epoch 7 [Val]: 100%|██████████| 111/111 [00:00<00:00, 774.78it/s]\n"
     ]
    },
    {
     "name": "stdout",
     "output_type": "stream",
     "text": [
      "Epoch 7: train_loss=0.171159, val_loss=0.653867\n"
     ]
    },
    {
     "name": "stderr",
     "output_type": "stream",
     "text": [
      "Epoch 8 [Train]: 100%|██████████| 514/514 [00:04<00:00, 111.34it/s]\n",
      "Epoch 8 [Val]: 100%|██████████| 111/111 [00:00<00:00, 763.89it/s]\n"
     ]
    },
    {
     "name": "stdout",
     "output_type": "stream",
     "text": [
      "Epoch 8: train_loss=0.168286, val_loss=0.708745\n"
     ]
    },
    {
     "name": "stderr",
     "output_type": "stream",
     "text": [
      "Epoch 9 [Train]: 100%|██████████| 514/514 [00:04<00:00, 103.73it/s]\n",
      "Epoch 9 [Val]: 100%|██████████| 111/111 [00:00<00:00, 747.38it/s]\n"
     ]
    },
    {
     "name": "stdout",
     "output_type": "stream",
     "text": [
      "Epoch 9: train_loss=0.166141, val_loss=0.769595\n"
     ]
    },
    {
     "name": "stderr",
     "output_type": "stream",
     "text": [
      "Epoch 10 [Train]: 100%|██████████| 514/514 [00:04<00:00, 110.54it/s]\n",
      "Epoch 10 [Val]: 100%|██████████| 111/111 [00:00<00:00, 750.90it/s]\n"
     ]
    },
    {
     "name": "stdout",
     "output_type": "stream",
     "text": [
      "Epoch 10: train_loss=0.166513, val_loss=0.658822\n"
     ]
    },
    {
     "name": "stderr",
     "output_type": "stream",
     "text": [
      "Epoch 11 [Train]: 100%|██████████| 514/514 [00:04<00:00, 111.86it/s]\n",
      "Epoch 11 [Val]: 100%|██████████| 111/111 [00:00<00:00, 782.54it/s]\n"
     ]
    },
    {
     "name": "stdout",
     "output_type": "stream",
     "text": [
      "Epoch 11: train_loss=0.166079, val_loss=0.752684\n"
     ]
    },
    {
     "name": "stderr",
     "output_type": "stream",
     "text": [
      "Epoch 12 [Train]: 100%|██████████| 514/514 [00:04<00:00, 110.02it/s]\n",
      "Epoch 12 [Val]: 100%|██████████| 111/111 [00:00<00:00, 606.79it/s]\n"
     ]
    },
    {
     "name": "stdout",
     "output_type": "stream",
     "text": [
      "Epoch 12: train_loss=0.163877, val_loss=0.746814\n"
     ]
    },
    {
     "name": "stderr",
     "output_type": "stream",
     "text": [
      "Epoch 13 [Train]: 100%|██████████| 514/514 [00:06<00:00, 73.87it/s] \n",
      "Epoch 13 [Val]: 100%|██████████| 111/111 [00:00<00:00, 755.42it/s]\n"
     ]
    },
    {
     "name": "stdout",
     "output_type": "stream",
     "text": [
      "Epoch 13: train_loss=0.166046, val_loss=0.821968\n"
     ]
    },
    {
     "name": "stderr",
     "output_type": "stream",
     "text": [
      "Epoch 14 [Train]: 100%|██████████| 514/514 [00:05<00:00, 99.59it/s] \n",
      "Epoch 14 [Val]: 100%|██████████| 111/111 [00:00<00:00, 441.78it/s]\n"
     ]
    },
    {
     "name": "stdout",
     "output_type": "stream",
     "text": [
      "Epoch 14: train_loss=0.165262, val_loss=0.702656\n"
     ]
    },
    {
     "name": "stderr",
     "output_type": "stream",
     "text": [
      "Epoch 15 [Train]: 100%|██████████| 514/514 [00:05<00:00, 91.37it/s] \n",
      "Epoch 15 [Val]: 100%|██████████| 111/111 [00:00<00:00, 643.39it/s]\n"
     ]
    },
    {
     "name": "stdout",
     "output_type": "stream",
     "text": [
      "Epoch 15: train_loss=0.165082, val_loss=0.668072\n"
     ]
    },
    {
     "name": "stderr",
     "output_type": "stream",
     "text": [
      "Epoch 16 [Train]: 100%|██████████| 514/514 [00:05<00:00, 97.74it/s] \n",
      "Epoch 16 [Val]: 100%|██████████| 111/111 [00:00<00:00, 705.67it/s]\n"
     ]
    },
    {
     "name": "stdout",
     "output_type": "stream",
     "text": [
      "Epoch 16: train_loss=0.164141, val_loss=0.767200\n"
     ]
    },
    {
     "name": "stderr",
     "output_type": "stream",
     "text": [
      "Epoch 17 [Train]: 100%|██████████| 514/514 [00:04<00:00, 109.85it/s]\n",
      "Epoch 17 [Val]: 100%|██████████| 111/111 [00:00<00:00, 772.85it/s]\n"
     ]
    },
    {
     "name": "stdout",
     "output_type": "stream",
     "text": [
      "Epoch 17: train_loss=0.164582, val_loss=0.818376\n"
     ]
    },
    {
     "name": "stderr",
     "output_type": "stream",
     "text": [
      "Epoch 18 [Train]: 100%|██████████| 514/514 [00:04<00:00, 111.15it/s]\n",
      "Epoch 18 [Val]: 100%|██████████| 111/111 [00:00<00:00, 827.86it/s]\n"
     ]
    },
    {
     "name": "stdout",
     "output_type": "stream",
     "text": [
      "Epoch 18: train_loss=0.160031, val_loss=0.705021\n"
     ]
    },
    {
     "name": "stderr",
     "output_type": "stream",
     "text": [
      "Epoch 19 [Train]: 100%|██████████| 514/514 [00:04<00:00, 123.19it/s]\n",
      "Epoch 19 [Val]: 100%|██████████| 111/111 [00:00<00:00, 780.92it/s]\n"
     ]
    },
    {
     "name": "stdout",
     "output_type": "stream",
     "text": [
      "Epoch 19: train_loss=0.160431, val_loss=0.673849\n"
     ]
    },
    {
     "name": "stderr",
     "output_type": "stream",
     "text": [
      "Epoch 20 [Train]: 100%|██████████| 514/514 [00:04<00:00, 115.84it/s]\n",
      "Epoch 20 [Val]: 100%|██████████| 111/111 [00:00<00:00, 831.82it/s]\n"
     ]
    },
    {
     "name": "stdout",
     "output_type": "stream",
     "text": [
      "Epoch 20: train_loss=0.157741, val_loss=0.660406\n"
     ]
    },
    {
     "name": "stderr",
     "output_type": "stream",
     "text": [
      "Epoch 21 [Train]: 100%|██████████| 514/514 [00:04<00:00, 107.93it/s]\n",
      "Epoch 21 [Val]: 100%|██████████| 111/111 [00:00<00:00, 636.16it/s]\n"
     ]
    },
    {
     "name": "stdout",
     "output_type": "stream",
     "text": [
      "Epoch 21: train_loss=0.164162, val_loss=0.751619\n"
     ]
    },
    {
     "name": "stderr",
     "output_type": "stream",
     "text": [
      "Epoch 22 [Train]: 100%|██████████| 514/514 [00:04<00:00, 105.31it/s]\n",
      "Epoch 22 [Val]: 100%|██████████| 111/111 [00:00<00:00, 749.52it/s]\n"
     ]
    },
    {
     "name": "stdout",
     "output_type": "stream",
     "text": [
      "Epoch 22: train_loss=0.159243, val_loss=0.708547\n"
     ]
    },
    {
     "name": "stderr",
     "output_type": "stream",
     "text": [
      "Epoch 23 [Train]: 100%|██████████| 514/514 [00:03<00:00, 130.04it/s]\n",
      "Epoch 23 [Val]: 100%|██████████| 111/111 [00:00<00:00, 849.92it/s]\n"
     ]
    },
    {
     "name": "stdout",
     "output_type": "stream",
     "text": [
      "Epoch 23: train_loss=0.161208, val_loss=0.804841\n"
     ]
    },
    {
     "name": "stderr",
     "output_type": "stream",
     "text": [
      "Epoch 24 [Train]: 100%|██████████| 514/514 [00:03<00:00, 128.55it/s]\n",
      "Epoch 24 [Val]: 100%|██████████| 111/111 [00:00<00:00, 812.42it/s]\n"
     ]
    },
    {
     "name": "stdout",
     "output_type": "stream",
     "text": [
      "Epoch 24: train_loss=0.163321, val_loss=0.669083\n"
     ]
    },
    {
     "name": "stderr",
     "output_type": "stream",
     "text": [
      "Epoch 25 [Train]: 100%|██████████| 514/514 [00:03<00:00, 131.89it/s]\n",
      "Epoch 25 [Val]: 100%|██████████| 111/111 [00:00<00:00, 667.67it/s]\n"
     ]
    },
    {
     "name": "stdout",
     "output_type": "stream",
     "text": [
      "Epoch 25: train_loss=0.154872, val_loss=0.772807\n"
     ]
    },
    {
     "name": "stderr",
     "output_type": "stream",
     "text": [
      "Epoch 26 [Train]: 100%|██████████| 514/514 [00:04<00:00, 109.80it/s]\n",
      "Epoch 26 [Val]: 100%|██████████| 111/111 [00:00<00:00, 618.90it/s]\n"
     ]
    },
    {
     "name": "stdout",
     "output_type": "stream",
     "text": [
      "Epoch 26: train_loss=0.157724, val_loss=0.765883\n"
     ]
    },
    {
     "name": "stderr",
     "output_type": "stream",
     "text": [
      "Epoch 27 [Train]: 100%|██████████| 514/514 [00:04<00:00, 119.07it/s]\n",
      "Epoch 27 [Val]: 100%|██████████| 111/111 [00:00<00:00, 820.31it/s]\n"
     ]
    },
    {
     "name": "stdout",
     "output_type": "stream",
     "text": [
      "Epoch 27: train_loss=0.156053, val_loss=0.682196\n"
     ]
    },
    {
     "name": "stderr",
     "output_type": "stream",
     "text": [
      "Epoch 28 [Train]: 100%|██████████| 514/514 [00:04<00:00, 117.14it/s]\n",
      "Epoch 28 [Val]: 100%|██████████| 111/111 [00:00<00:00, 790.63it/s]\n"
     ]
    },
    {
     "name": "stdout",
     "output_type": "stream",
     "text": [
      "Epoch 28: train_loss=0.155945, val_loss=0.662818\n"
     ]
    },
    {
     "name": "stderr",
     "output_type": "stream",
     "text": [
      "Epoch 29 [Train]: 100%|██████████| 514/514 [00:04<00:00, 111.75it/s]\n",
      "Epoch 29 [Val]: 100%|██████████| 111/111 [00:00<00:00, 744.99it/s]\n"
     ]
    },
    {
     "name": "stdout",
     "output_type": "stream",
     "text": [
      "Epoch 29: train_loss=0.155975, val_loss=0.805206\n"
     ]
    },
    {
     "name": "stderr",
     "output_type": "stream",
     "text": [
      "Epoch 30 [Train]: 100%|██████████| 514/514 [00:04<00:00, 112.06it/s]\n",
      "Epoch 30 [Val]: 100%|██████████| 111/111 [00:00<00:00, 563.19it/s]\n"
     ]
    },
    {
     "name": "stdout",
     "output_type": "stream",
     "text": [
      "Epoch 30: train_loss=0.155100, val_loss=0.715344\n"
     ]
    },
    {
     "name": "stderr",
     "output_type": "stream",
     "text": [
      "Epoch 31 [Train]: 100%|██████████| 514/514 [00:07<00:00, 68.55it/s]\n",
      "Epoch 31 [Val]: 100%|██████████| 111/111 [00:00<00:00, 731.04it/s]\n"
     ]
    },
    {
     "name": "stdout",
     "output_type": "stream",
     "text": [
      "Epoch 31: train_loss=0.156389, val_loss=0.771768\n"
     ]
    },
    {
     "name": "stderr",
     "output_type": "stream",
     "text": [
      "Epoch 32 [Train]: 100%|██████████| 514/514 [00:05<00:00, 86.06it/s] \n",
      "Epoch 32 [Val]: 100%|██████████| 111/111 [00:00<00:00, 665.67it/s]\n"
     ]
    },
    {
     "name": "stdout",
     "output_type": "stream",
     "text": [
      "Epoch 32: train_loss=0.154770, val_loss=0.704373\n"
     ]
    },
    {
     "name": "stderr",
     "output_type": "stream",
     "text": [
      "Epoch 33 [Train]: 100%|██████████| 514/514 [00:05<00:00, 98.60it/s] \n",
      "Epoch 33 [Val]: 100%|██████████| 111/111 [00:00<00:00, 713.82it/s]\n"
     ]
    },
    {
     "name": "stdout",
     "output_type": "stream",
     "text": [
      "Epoch 33: train_loss=0.158120, val_loss=0.673238\n"
     ]
    },
    {
     "name": "stderr",
     "output_type": "stream",
     "text": [
      "Epoch 34 [Train]: 100%|██████████| 514/514 [00:04<00:00, 103.19it/s]\n",
      "Epoch 34 [Val]: 100%|██████████| 111/111 [00:00<00:00, 629.48it/s]\n"
     ]
    },
    {
     "name": "stdout",
     "output_type": "stream",
     "text": [
      "Epoch 34: train_loss=0.152879, val_loss=0.690866\n"
     ]
    },
    {
     "name": "stderr",
     "output_type": "stream",
     "text": [
      "Epoch 35 [Train]: 100%|██████████| 514/514 [00:04<00:00, 106.71it/s]\n",
      "Epoch 35 [Val]: 100%|██████████| 111/111 [00:00<00:00, 714.88it/s]\n"
     ]
    },
    {
     "name": "stdout",
     "output_type": "stream",
     "text": [
      "Epoch 35: train_loss=0.155627, val_loss=0.647125\n"
     ]
    },
    {
     "name": "stderr",
     "output_type": "stream",
     "text": [
      "Epoch 36 [Train]: 100%|██████████| 514/514 [00:05<00:00, 91.91it/s] \n",
      "Epoch 36 [Val]: 100%|██████████| 111/111 [00:00<00:00, 495.68it/s]\n"
     ]
    },
    {
     "name": "stdout",
     "output_type": "stream",
     "text": [
      "Epoch 36: train_loss=0.152015, val_loss=0.669334\n"
     ]
    },
    {
     "name": "stderr",
     "output_type": "stream",
     "text": [
      "Epoch 37 [Train]: 100%|██████████| 514/514 [00:04<00:00, 104.54it/s]\n",
      "Epoch 37 [Val]: 100%|██████████| 111/111 [00:00<00:00, 740.80it/s]\n"
     ]
    },
    {
     "name": "stdout",
     "output_type": "stream",
     "text": [
      "Epoch 37: train_loss=0.151906, val_loss=0.655838\n"
     ]
    },
    {
     "name": "stderr",
     "output_type": "stream",
     "text": [
      "Epoch 38 [Train]: 100%|██████████| 514/514 [00:04<00:00, 115.56it/s]\n",
      "Epoch 38 [Val]: 100%|██████████| 111/111 [00:00<00:00, 721.43it/s]\n"
     ]
    },
    {
     "name": "stdout",
     "output_type": "stream",
     "text": [
      "Epoch 38: train_loss=0.152418, val_loss=0.776781\n"
     ]
    },
    {
     "name": "stderr",
     "output_type": "stream",
     "text": [
      "Epoch 39 [Train]: 100%|██████████| 514/514 [00:04<00:00, 112.72it/s]\n",
      "Epoch 39 [Val]: 100%|██████████| 111/111 [00:00<00:00, 826.03it/s]\n"
     ]
    },
    {
     "name": "stdout",
     "output_type": "stream",
     "text": [
      "Epoch 39: train_loss=0.153488, val_loss=0.694679\n"
     ]
    },
    {
     "name": "stderr",
     "output_type": "stream",
     "text": [
      "Epoch 40 [Train]: 100%|██████████| 514/514 [00:05<00:00, 95.74it/s] \n",
      "Epoch 40 [Val]: 100%|██████████| 111/111 [00:00<00:00, 680.45it/s]\n"
     ]
    },
    {
     "name": "stdout",
     "output_type": "stream",
     "text": [
      "Epoch 40: train_loss=0.151234, val_loss=0.734517\n"
     ]
    },
    {
     "name": "stderr",
     "output_type": "stream",
     "text": [
      "Epoch 41 [Train]: 100%|██████████| 514/514 [00:04<00:00, 109.92it/s]\n",
      "Epoch 41 [Val]: 100%|██████████| 111/111 [00:00<00:00, 703.34it/s]\n"
     ]
    },
    {
     "name": "stdout",
     "output_type": "stream",
     "text": [
      "Epoch 41: train_loss=0.152639, val_loss=0.745239\n"
     ]
    },
    {
     "name": "stderr",
     "output_type": "stream",
     "text": [
      "Epoch 42 [Train]: 100%|██████████| 514/514 [00:04<00:00, 116.23it/s]\n",
      "Epoch 42 [Val]: 100%|██████████| 111/111 [00:00<00:00, 786.42it/s]\n"
     ]
    },
    {
     "name": "stdout",
     "output_type": "stream",
     "text": [
      "Epoch 42: train_loss=0.154881, val_loss=0.676027\n"
     ]
    },
    {
     "name": "stderr",
     "output_type": "stream",
     "text": [
      "Epoch 43 [Train]: 100%|██████████| 514/514 [00:05<00:00, 96.20it/s] \n",
      "Epoch 43 [Val]: 100%|██████████| 111/111 [00:00<00:00, 579.15it/s]\n"
     ]
    },
    {
     "name": "stdout",
     "output_type": "stream",
     "text": [
      "Epoch 43: train_loss=0.150519, val_loss=0.738493\n"
     ]
    },
    {
     "name": "stderr",
     "output_type": "stream",
     "text": [
      "Epoch 44 [Train]: 100%|██████████| 514/514 [00:04<00:00, 104.77it/s]\n",
      "Epoch 44 [Val]: 100%|██████████| 111/111 [00:00<00:00, 676.86it/s]\n"
     ]
    },
    {
     "name": "stdout",
     "output_type": "stream",
     "text": [
      "Epoch 44: train_loss=0.152371, val_loss=0.725448\n"
     ]
    },
    {
     "name": "stderr",
     "output_type": "stream",
     "text": [
      "Epoch 45 [Train]: 100%|██████████| 514/514 [00:04<00:00, 108.13it/s]\n",
      "Epoch 45 [Val]: 100%|██████████| 111/111 [00:00<00:00, 712.76it/s]\n"
     ]
    },
    {
     "name": "stdout",
     "output_type": "stream",
     "text": [
      "Epoch 45: train_loss=0.148445, val_loss=0.797375\n"
     ]
    },
    {
     "name": "stderr",
     "output_type": "stream",
     "text": [
      "Epoch 46 [Train]: 100%|██████████| 514/514 [00:05<00:00, 101.73it/s]\n",
      "Epoch 46 [Val]: 100%|██████████| 111/111 [00:00<00:00, 459.19it/s]\n"
     ]
    },
    {
     "name": "stdout",
     "output_type": "stream",
     "text": [
      "Epoch 46: train_loss=0.148043, val_loss=0.750552\n"
     ]
    },
    {
     "name": "stderr",
     "output_type": "stream",
     "text": [
      "Epoch 47 [Train]: 100%|██████████| 514/514 [00:05<00:00, 99.07it/s] \n",
      "Epoch 47 [Val]: 100%|██████████| 111/111 [00:00<00:00, 482.08it/s]\n"
     ]
    },
    {
     "name": "stdout",
     "output_type": "stream",
     "text": [
      "Epoch 47: train_loss=0.149917, val_loss=0.784410\n"
     ]
    },
    {
     "name": "stderr",
     "output_type": "stream",
     "text": [
      "Epoch 48 [Train]: 100%|██████████| 514/514 [00:05<00:00, 91.05it/s] \n",
      "Epoch 48 [Val]: 100%|██████████| 111/111 [00:00<00:00, 438.66it/s]\n"
     ]
    },
    {
     "name": "stdout",
     "output_type": "stream",
     "text": [
      "Epoch 48: train_loss=0.150187, val_loss=0.715361\n"
     ]
    },
    {
     "name": "stderr",
     "output_type": "stream",
     "text": [
      "Epoch 49 [Train]: 100%|██████████| 514/514 [00:06<00:00, 77.72it/s] \n",
      "Epoch 49 [Val]: 100%|██████████| 111/111 [00:00<00:00, 741.27it/s]\n"
     ]
    },
    {
     "name": "stdout",
     "output_type": "stream",
     "text": [
      "Epoch 49: train_loss=0.149548, val_loss=0.721521\n"
     ]
    },
    {
     "name": "stderr",
     "output_type": "stream",
     "text": [
      "Epoch 50 [Train]: 100%|██████████| 514/514 [00:04<00:00, 108.04it/s]\n",
      "Epoch 50 [Val]: 100%|██████████| 111/111 [00:00<00:00, 737.99it/s]\n"
     ]
    },
    {
     "name": "stdout",
     "output_type": "stream",
     "text": [
      "Epoch 50: train_loss=0.148380, val_loss=0.783809\n"
     ]
    },
    {
     "name": "stderr",
     "output_type": "stream",
     "text": [
      "Epoch 51 [Train]: 100%|██████████| 514/514 [00:04<00:00, 110.14it/s]\n",
      "Epoch 51 [Val]: 100%|██████████| 111/111 [00:00<00:00, 742.44it/s]\n"
     ]
    },
    {
     "name": "stdout",
     "output_type": "stream",
     "text": [
      "Epoch 51: train_loss=0.148893, val_loss=0.708641\n"
     ]
    },
    {
     "name": "stderr",
     "output_type": "stream",
     "text": [
      "Epoch 52 [Train]: 100%|██████████| 514/514 [00:04<00:00, 104.89it/s]\n",
      "Epoch 52 [Val]: 100%|██████████| 111/111 [00:00<00:00, 744.94it/s]\n"
     ]
    },
    {
     "name": "stdout",
     "output_type": "stream",
     "text": [
      "Epoch 52: train_loss=0.152030, val_loss=0.746703\n"
     ]
    },
    {
     "name": "stderr",
     "output_type": "stream",
     "text": [
      "Epoch 53 [Train]: 100%|██████████| 514/514 [00:04<00:00, 106.35it/s]\n",
      "Epoch 53 [Val]: 100%|██████████| 111/111 [00:00<00:00, 711.27it/s]\n"
     ]
    },
    {
     "name": "stdout",
     "output_type": "stream",
     "text": [
      "Epoch 53: train_loss=0.153959, val_loss=0.748255\n"
     ]
    },
    {
     "name": "stderr",
     "output_type": "stream",
     "text": [
      "Epoch 54 [Train]: 100%|██████████| 514/514 [00:04<00:00, 108.27it/s]\n",
      "Epoch 54 [Val]: 100%|██████████| 111/111 [00:00<00:00, 762.43it/s]\n"
     ]
    },
    {
     "name": "stdout",
     "output_type": "stream",
     "text": [
      "Epoch 54: train_loss=0.150318, val_loss=0.737913\n"
     ]
    },
    {
     "name": "stderr",
     "output_type": "stream",
     "text": [
      "Epoch 55 [Train]: 100%|██████████| 514/514 [00:04<00:00, 109.16it/s]\n",
      "Epoch 55 [Val]: 100%|██████████| 111/111 [00:00<00:00, 726.10it/s]\n"
     ]
    },
    {
     "name": "stdout",
     "output_type": "stream",
     "text": [
      "Epoch 55: train_loss=0.149106, val_loss=0.718244\n"
     ]
    },
    {
     "name": "stderr",
     "output_type": "stream",
     "text": [
      "Epoch 56 [Train]: 100%|██████████| 514/514 [00:04<00:00, 109.38it/s]\n",
      "Epoch 56 [Val]: 100%|██████████| 111/111 [00:00<00:00, 725.53it/s]\n"
     ]
    },
    {
     "name": "stdout",
     "output_type": "stream",
     "text": [
      "Epoch 56: train_loss=0.146264, val_loss=0.781451\n"
     ]
    },
    {
     "name": "stderr",
     "output_type": "stream",
     "text": [
      "Epoch 57 [Train]: 100%|██████████| 514/514 [00:04<00:00, 106.93it/s]\n",
      "Epoch 57 [Val]: 100%|██████████| 111/111 [00:00<00:00, 755.94it/s]\n"
     ]
    },
    {
     "name": "stdout",
     "output_type": "stream",
     "text": [
      "Epoch 57: train_loss=0.148725, val_loss=0.717373\n"
     ]
    },
    {
     "name": "stderr",
     "output_type": "stream",
     "text": [
      "Epoch 58 [Train]: 100%|██████████| 514/514 [00:04<00:00, 107.90it/s]\n",
      "Epoch 58 [Val]: 100%|██████████| 111/111 [00:00<00:00, 763.02it/s]\n"
     ]
    },
    {
     "name": "stdout",
     "output_type": "stream",
     "text": [
      "Epoch 58: train_loss=0.148210, val_loss=0.783385\n"
     ]
    },
    {
     "name": "stderr",
     "output_type": "stream",
     "text": [
      "Epoch 59 [Train]: 100%|██████████| 514/514 [00:04<00:00, 106.67it/s]\n",
      "Epoch 59 [Val]: 100%|██████████| 111/111 [00:00<00:00, 749.56it/s]\n"
     ]
    },
    {
     "name": "stdout",
     "output_type": "stream",
     "text": [
      "Epoch 59: train_loss=0.147901, val_loss=0.762411\n"
     ]
    },
    {
     "name": "stderr",
     "output_type": "stream",
     "text": [
      "Epoch 60 [Train]: 100%|██████████| 514/514 [00:04<00:00, 104.00it/s]\n",
      "Epoch 60 [Val]: 100%|██████████| 111/111 [00:00<00:00, 597.34it/s]\n"
     ]
    },
    {
     "name": "stdout",
     "output_type": "stream",
     "text": [
      "Epoch 60: train_loss=0.146058, val_loss=0.742753\n"
     ]
    },
    {
     "name": "stderr",
     "output_type": "stream",
     "text": [
      "Epoch 61 [Train]: 100%|██████████| 514/514 [00:04<00:00, 107.82it/s]\n",
      "Epoch 61 [Val]: 100%|██████████| 111/111 [00:00<00:00, 725.83it/s]\n"
     ]
    },
    {
     "name": "stdout",
     "output_type": "stream",
     "text": [
      "Epoch 61: train_loss=0.147907, val_loss=0.759360\n"
     ]
    },
    {
     "name": "stderr",
     "output_type": "stream",
     "text": [
      "Epoch 62 [Train]: 100%|██████████| 514/514 [00:04<00:00, 109.67it/s]\n",
      "Epoch 62 [Val]: 100%|██████████| 111/111 [00:00<00:00, 772.74it/s]\n"
     ]
    },
    {
     "name": "stdout",
     "output_type": "stream",
     "text": [
      "Epoch 62: train_loss=0.148432, val_loss=0.715079\n"
     ]
    },
    {
     "name": "stderr",
     "output_type": "stream",
     "text": [
      "Epoch 63 [Train]: 100%|██████████| 514/514 [00:04<00:00, 110.54it/s]\n",
      "Epoch 63 [Val]: 100%|██████████| 111/111 [00:00<00:00, 745.10it/s]\n"
     ]
    },
    {
     "name": "stdout",
     "output_type": "stream",
     "text": [
      "Epoch 63: train_loss=0.147645, val_loss=0.747778\n"
     ]
    },
    {
     "name": "stderr",
     "output_type": "stream",
     "text": [
      "Epoch 64 [Train]: 100%|██████████| 514/514 [00:04<00:00, 108.54it/s]\n",
      "Epoch 64 [Val]: 100%|██████████| 111/111 [00:00<00:00, 576.52it/s]\n"
     ]
    },
    {
     "name": "stdout",
     "output_type": "stream",
     "text": [
      "Epoch 64: train_loss=0.149463, val_loss=0.717550\n"
     ]
    },
    {
     "name": "stderr",
     "output_type": "stream",
     "text": [
      "Epoch 65 [Train]: 100%|██████████| 514/514 [00:04<00:00, 103.08it/s]\n",
      "Epoch 65 [Val]: 100%|██████████| 111/111 [00:00<00:00, 745.39it/s]\n"
     ]
    },
    {
     "name": "stdout",
     "output_type": "stream",
     "text": [
      "Epoch 65: train_loss=0.149306, val_loss=0.775155\n"
     ]
    },
    {
     "name": "stderr",
     "output_type": "stream",
     "text": [
      "Epoch 66 [Train]: 100%|██████████| 514/514 [00:04<00:00, 106.39it/s]\n",
      "Epoch 66 [Val]: 100%|██████████| 111/111 [00:00<00:00, 696.32it/s]\n"
     ]
    },
    {
     "name": "stdout",
     "output_type": "stream",
     "text": [
      "Epoch 66: train_loss=0.146749, val_loss=0.760729\n"
     ]
    },
    {
     "name": "stderr",
     "output_type": "stream",
     "text": [
      "Epoch 67 [Train]: 100%|██████████| 514/514 [00:04<00:00, 104.01it/s]\n",
      "Epoch 67 [Val]: 100%|██████████| 111/111 [00:00<00:00, 677.61it/s]\n"
     ]
    },
    {
     "name": "stdout",
     "output_type": "stream",
     "text": [
      "Epoch 67: train_loss=0.148651, val_loss=0.855260\n"
     ]
    },
    {
     "name": "stderr",
     "output_type": "stream",
     "text": [
      "Epoch 68 [Train]: 100%|██████████| 514/514 [00:07<00:00, 72.56it/s]\n",
      "Epoch 68 [Val]: 100%|██████████| 111/111 [00:00<00:00, 666.17it/s]\n"
     ]
    },
    {
     "name": "stdout",
     "output_type": "stream",
     "text": [
      "Epoch 68: train_loss=0.147293, val_loss=0.744884\n"
     ]
    },
    {
     "name": "stderr",
     "output_type": "stream",
     "text": [
      "Epoch 69 [Train]: 100%|██████████| 514/514 [00:05<00:00, 96.28it/s] \n",
      "Epoch 69 [Val]: 100%|██████████| 111/111 [00:00<00:00, 683.79it/s]\n"
     ]
    },
    {
     "name": "stdout",
     "output_type": "stream",
     "text": [
      "Epoch 69: train_loss=0.146160, val_loss=0.803664\n"
     ]
    },
    {
     "name": "stderr",
     "output_type": "stream",
     "text": [
      "Epoch 70 [Train]: 100%|██████████| 514/514 [00:05<00:00, 95.82it/s] \n",
      "Epoch 70 [Val]: 100%|██████████| 111/111 [00:00<00:00, 658.93it/s]\n"
     ]
    },
    {
     "name": "stdout",
     "output_type": "stream",
     "text": [
      "Epoch 70: train_loss=0.146440, val_loss=0.783810\n"
     ]
    },
    {
     "name": "stderr",
     "output_type": "stream",
     "text": [
      "Epoch 71 [Train]: 100%|██████████| 514/514 [00:05<00:00, 102.09it/s]\n",
      "Epoch 71 [Val]: 100%|██████████| 111/111 [00:00<00:00, 726.70it/s]\n"
     ]
    },
    {
     "name": "stdout",
     "output_type": "stream",
     "text": [
      "Epoch 71: train_loss=0.146637, val_loss=0.801004\n"
     ]
    },
    {
     "name": "stderr",
     "output_type": "stream",
     "text": [
      "Epoch 72 [Train]: 100%|██████████| 514/514 [00:05<00:00, 91.52it/s] \n",
      "Epoch 72 [Val]: 100%|██████████| 111/111 [00:00<00:00, 681.59it/s]\n"
     ]
    },
    {
     "name": "stdout",
     "output_type": "stream",
     "text": [
      "Epoch 72: train_loss=0.146374, val_loss=0.739541\n"
     ]
    },
    {
     "name": "stderr",
     "output_type": "stream",
     "text": [
      "Epoch 73 [Train]: 100%|██████████| 514/514 [00:05<00:00, 97.13it/s] \n",
      "Epoch 73 [Val]: 100%|██████████| 111/111 [00:00<00:00, 687.19it/s]\n"
     ]
    },
    {
     "name": "stdout",
     "output_type": "stream",
     "text": [
      "Epoch 73: train_loss=0.148985, val_loss=0.715874\n"
     ]
    },
    {
     "name": "stderr",
     "output_type": "stream",
     "text": [
      "Epoch 74 [Train]: 100%|██████████| 514/514 [00:05<00:00, 95.64it/s] \n",
      "Epoch 74 [Val]: 100%|██████████| 111/111 [00:00<00:00, 709.43it/s]\n"
     ]
    },
    {
     "name": "stdout",
     "output_type": "stream",
     "text": [
      "Epoch 74: train_loss=0.147242, val_loss=0.734802\n"
     ]
    },
    {
     "name": "stderr",
     "output_type": "stream",
     "text": [
      "Epoch 75 [Train]: 100%|██████████| 514/514 [00:05<00:00, 97.97it/s] \n",
      "Epoch 75 [Val]: 100%|██████████| 111/111 [00:00<00:00, 717.86it/s]\n"
     ]
    },
    {
     "name": "stdout",
     "output_type": "stream",
     "text": [
      "Epoch 75: train_loss=0.147388, val_loss=0.723792\n"
     ]
    },
    {
     "name": "stderr",
     "output_type": "stream",
     "text": [
      "Epoch 76 [Train]: 100%|██████████| 514/514 [00:05<00:00, 88.11it/s] \n",
      "Epoch 76 [Val]: 100%|██████████| 111/111 [00:00<00:00, 680.63it/s]\n"
     ]
    },
    {
     "name": "stdout",
     "output_type": "stream",
     "text": [
      "Epoch 76: train_loss=0.145135, val_loss=0.755169\n"
     ]
    },
    {
     "name": "stderr",
     "output_type": "stream",
     "text": [
      "Epoch 77 [Train]: 100%|██████████| 514/514 [00:04<00:00, 109.41it/s]\n",
      "Epoch 77 [Val]: 100%|██████████| 111/111 [00:00<00:00, 823.73it/s]\n"
     ]
    },
    {
     "name": "stdout",
     "output_type": "stream",
     "text": [
      "Epoch 77: train_loss=0.145305, val_loss=0.778621\n"
     ]
    },
    {
     "name": "stderr",
     "output_type": "stream",
     "text": [
      "Epoch 78 [Train]: 100%|██████████| 514/514 [00:04<00:00, 121.53it/s]\n",
      "Epoch 78 [Val]: 100%|██████████| 111/111 [00:00<00:00, 760.28it/s]\n"
     ]
    },
    {
     "name": "stdout",
     "output_type": "stream",
     "text": [
      "Epoch 78: train_loss=0.145250, val_loss=0.803112\n"
     ]
    },
    {
     "name": "stderr",
     "output_type": "stream",
     "text": [
      "Epoch 79 [Train]: 100%|██████████| 514/514 [00:04<00:00, 123.45it/s]\n",
      "Epoch 79 [Val]: 100%|██████████| 111/111 [00:00<00:00, 836.00it/s]\n"
     ]
    },
    {
     "name": "stdout",
     "output_type": "stream",
     "text": [
      "Epoch 79: train_loss=0.146440, val_loss=0.722774\n"
     ]
    },
    {
     "name": "stderr",
     "output_type": "stream",
     "text": [
      "Epoch 80 [Train]: 100%|██████████| 514/514 [00:04<00:00, 120.20it/s]\n",
      "Epoch 80 [Val]: 100%|██████████| 111/111 [00:00<00:00, 828.99it/s]\n"
     ]
    },
    {
     "name": "stdout",
     "output_type": "stream",
     "text": [
      "Epoch 80: train_loss=0.145959, val_loss=0.774192\n"
     ]
    },
    {
     "name": "stderr",
     "output_type": "stream",
     "text": [
      "Epoch 81 [Train]: 100%|██████████| 514/514 [00:04<00:00, 127.09it/s]\n",
      "Epoch 81 [Val]: 100%|██████████| 111/111 [00:00<00:00, 785.31it/s]\n"
     ]
    },
    {
     "name": "stdout",
     "output_type": "stream",
     "text": [
      "Epoch 81: train_loss=0.146115, val_loss=0.747166\n"
     ]
    },
    {
     "name": "stderr",
     "output_type": "stream",
     "text": [
      "Epoch 82 [Train]: 100%|██████████| 514/514 [00:04<00:00, 126.87it/s]\n",
      "Epoch 82 [Val]: 100%|██████████| 111/111 [00:00<00:00, 805.70it/s]\n"
     ]
    },
    {
     "name": "stdout",
     "output_type": "stream",
     "text": [
      "Epoch 82: train_loss=0.145171, val_loss=0.742589\n"
     ]
    },
    {
     "name": "stderr",
     "output_type": "stream",
     "text": [
      "Epoch 83 [Train]: 100%|██████████| 514/514 [00:03<00:00, 130.52it/s]\n",
      "Epoch 83 [Val]: 100%|██████████| 111/111 [00:00<00:00, 794.66it/s]\n"
     ]
    },
    {
     "name": "stdout",
     "output_type": "stream",
     "text": [
      "Epoch 83: train_loss=0.144846, val_loss=0.717638\n"
     ]
    },
    {
     "name": "stderr",
     "output_type": "stream",
     "text": [
      "Epoch 84 [Train]: 100%|██████████| 514/514 [00:04<00:00, 118.55it/s]\n",
      "Epoch 84 [Val]: 100%|██████████| 111/111 [00:00<00:00, 808.25it/s]\n"
     ]
    },
    {
     "name": "stdout",
     "output_type": "stream",
     "text": [
      "Epoch 84: train_loss=0.149808, val_loss=0.715432\n"
     ]
    },
    {
     "name": "stderr",
     "output_type": "stream",
     "text": [
      "Epoch 85 [Train]: 100%|██████████| 514/514 [00:04<00:00, 124.94it/s]\n",
      "Epoch 85 [Val]: 100%|██████████| 111/111 [00:00<00:00, 715.87it/s]\n"
     ]
    },
    {
     "name": "stdout",
     "output_type": "stream",
     "text": [
      "Epoch 85: train_loss=0.143984, val_loss=0.749917\n"
     ]
    },
    {
     "name": "stderr",
     "output_type": "stream",
     "text": [
      "Epoch 86 [Train]: 100%|██████████| 514/514 [00:04<00:00, 119.30it/s]\n",
      "Epoch 86 [Val]: 100%|██████████| 111/111 [00:00<00:00, 782.94it/s]\n"
     ]
    },
    {
     "name": "stdout",
     "output_type": "stream",
     "text": [
      "Epoch 86: train_loss=0.145414, val_loss=0.698273\n"
     ]
    },
    {
     "name": "stderr",
     "output_type": "stream",
     "text": [
      "Epoch 87 [Train]: 100%|██████████| 514/514 [00:04<00:00, 116.31it/s]\n",
      "Epoch 87 [Val]: 100%|██████████| 111/111 [00:00<00:00, 829.30it/s]\n"
     ]
    },
    {
     "name": "stdout",
     "output_type": "stream",
     "text": [
      "Epoch 87: train_loss=0.146059, val_loss=0.736187\n"
     ]
    },
    {
     "name": "stderr",
     "output_type": "stream",
     "text": [
      "Epoch 88 [Train]: 100%|██████████| 514/514 [00:04<00:00, 118.65it/s]\n",
      "Epoch 88 [Val]: 100%|██████████| 111/111 [00:00<00:00, 798.09it/s]\n"
     ]
    },
    {
     "name": "stdout",
     "output_type": "stream",
     "text": [
      "Epoch 88: train_loss=0.143789, val_loss=0.692393\n"
     ]
    },
    {
     "name": "stderr",
     "output_type": "stream",
     "text": [
      "Epoch 89 [Train]: 100%|██████████| 514/514 [00:04<00:00, 121.79it/s]\n",
      "Epoch 89 [Val]: 100%|██████████| 111/111 [00:00<00:00, 824.29it/s]\n"
     ]
    },
    {
     "name": "stdout",
     "output_type": "stream",
     "text": [
      "Epoch 89: train_loss=0.143685, val_loss=0.790369\n"
     ]
    },
    {
     "name": "stderr",
     "output_type": "stream",
     "text": [
      "Epoch 90 [Train]: 100%|██████████| 514/514 [00:04<00:00, 125.53it/s]\n",
      "Epoch 90 [Val]: 100%|██████████| 111/111 [00:00<00:00, 819.81it/s]\n"
     ]
    },
    {
     "name": "stdout",
     "output_type": "stream",
     "text": [
      "Epoch 90: train_loss=0.144625, val_loss=0.781752\n"
     ]
    },
    {
     "name": "stderr",
     "output_type": "stream",
     "text": [
      "Epoch 91 [Train]: 100%|██████████| 514/514 [00:04<00:00, 122.32it/s]\n",
      "Epoch 91 [Val]: 100%|██████████| 111/111 [00:00<00:00, 804.11it/s]\n"
     ]
    },
    {
     "name": "stdout",
     "output_type": "stream",
     "text": [
      "Epoch 91: train_loss=0.144018, val_loss=0.735120\n"
     ]
    },
    {
     "name": "stderr",
     "output_type": "stream",
     "text": [
      "Epoch 92 [Train]: 100%|██████████| 514/514 [00:04<00:00, 119.60it/s]\n",
      "Epoch 92 [Val]: 100%|██████████| 111/111 [00:00<00:00, 815.44it/s]\n"
     ]
    },
    {
     "name": "stdout",
     "output_type": "stream",
     "text": [
      "Epoch 92: train_loss=0.146434, val_loss=0.797586\n"
     ]
    },
    {
     "name": "stderr",
     "output_type": "stream",
     "text": [
      "Epoch 93 [Train]: 100%|██████████| 514/514 [00:03<00:00, 129.61it/s]\n",
      "Epoch 93 [Val]: 100%|██████████| 111/111 [00:00<00:00, 821.72it/s]\n"
     ]
    },
    {
     "name": "stdout",
     "output_type": "stream",
     "text": [
      "Epoch 93: train_loss=0.144267, val_loss=0.778646\n"
     ]
    },
    {
     "name": "stderr",
     "output_type": "stream",
     "text": [
      "Epoch 94 [Train]: 100%|██████████| 514/514 [00:04<00:00, 121.19it/s]\n",
      "Epoch 94 [Val]: 100%|██████████| 111/111 [00:00<00:00, 684.58it/s]\n"
     ]
    },
    {
     "name": "stdout",
     "output_type": "stream",
     "text": [
      "Epoch 94: train_loss=0.143762, val_loss=0.757697\n"
     ]
    },
    {
     "name": "stderr",
     "output_type": "stream",
     "text": [
      "Epoch 95 [Train]: 100%|██████████| 514/514 [00:04<00:00, 128.03it/s]\n",
      "Epoch 95 [Val]: 100%|██████████| 111/111 [00:00<00:00, 838.57it/s]\n"
     ]
    },
    {
     "name": "stdout",
     "output_type": "stream",
     "text": [
      "Epoch 95: train_loss=0.147044, val_loss=0.754397\n"
     ]
    },
    {
     "name": "stderr",
     "output_type": "stream",
     "text": [
      "Epoch 96 [Train]: 100%|██████████| 514/514 [00:04<00:00, 123.77it/s]\n",
      "Epoch 96 [Val]: 100%|██████████| 111/111 [00:00<00:00, 810.70it/s]\n"
     ]
    },
    {
     "name": "stdout",
     "output_type": "stream",
     "text": [
      "Epoch 96: train_loss=0.146141, val_loss=0.778828\n"
     ]
    },
    {
     "name": "stderr",
     "output_type": "stream",
     "text": [
      "Epoch 97 [Train]: 100%|██████████| 514/514 [00:04<00:00, 124.98it/s]\n",
      "Epoch 97 [Val]: 100%|██████████| 111/111 [00:00<00:00, 805.94it/s]\n"
     ]
    },
    {
     "name": "stdout",
     "output_type": "stream",
     "text": [
      "Epoch 97: train_loss=0.144900, val_loss=0.729233\n"
     ]
    },
    {
     "name": "stderr",
     "output_type": "stream",
     "text": [
      "Epoch 98 [Train]: 100%|██████████| 514/514 [00:04<00:00, 128.48it/s]\n",
      "Epoch 98 [Val]: 100%|██████████| 111/111 [00:00<00:00, 824.65it/s]\n"
     ]
    },
    {
     "name": "stdout",
     "output_type": "stream",
     "text": [
      "Epoch 98: train_loss=0.145254, val_loss=0.754927\n"
     ]
    },
    {
     "name": "stderr",
     "output_type": "stream",
     "text": [
      "Epoch 99 [Train]: 100%|██████████| 514/514 [00:03<00:00, 133.75it/s]\n",
      "Epoch 99 [Val]: 100%|██████████| 111/111 [00:00<00:00, 839.05it/s]\n"
     ]
    },
    {
     "name": "stdout",
     "output_type": "stream",
     "text": [
      "Epoch 99: train_loss=0.142369, val_loss=0.764161\n"
     ]
    },
    {
     "name": "stderr",
     "output_type": "stream",
     "text": [
      "Epoch 100 [Train]: 100%|██████████| 514/514 [00:03<00:00, 129.61it/s]\n",
      "Epoch 100 [Val]: 100%|██████████| 111/111 [00:00<00:00, 803.98it/s]"
     ]
    },
    {
     "name": "stdout",
     "output_type": "stream",
     "text": [
      "Epoch 100: train_loss=0.145173, val_loss=0.765015\n"
     ]
    },
    {
     "name": "stderr",
     "output_type": "stream",
     "text": [
      "\n"
     ]
    }
   ],
   "source": [
    "import torch.optim as optim\n",
    "from tqdm import tqdm\n",
    "\n",
    "device = torch.device('cuda' if torch.cuda.is_available() else 'cpu')\n",
    "model.to(device)\n",
    "optimizer = optim.Adam(model.parameters(), lr=1e-3)\n",
    "loss_fn = nn.MSELoss()\n",
    "\n",
    "y_pred = None\n",
    "for epoch in range(100):\n",
    "    model.train()\n",
    "    train_loss = 0\n",
    "    for xb, yb in tqdm(train_loader, desc=f\"Epoch {epoch+1} [Train]\"):\n",
    "        xb, yb = xb.to(device), yb.to(device)\n",
    "        pred = model(xb)\n",
    "        loss = loss_fn(pred, yb)\n",
    "        optimizer.zero_grad()\n",
    "        loss.backward()\n",
    "        optimizer.step()\n",
    "        train_loss += loss.item() * xb.size(0)\n",
    "    train_loss /= len(train_dataset)\n",
    "\n",
    "    # Validation\n",
    "    model.eval()\n",
    "    val_loss = 0\n",
    "    with torch.no_grad():\n",
    "        for xb, yb in tqdm(val_loader, desc=f\"Epoch {epoch+1} [Val]\"):\n",
    "            xb, yb = xb.to(device), yb.to(device)\n",
    "            pred = model(xb)\n",
    "            loss = loss_fn(pred, yb)\n",
    "            val_loss += loss.item() * xb.size(0)\n",
    "    val_loss /= len(val_dataset)\n",
    "    print(f\"Epoch {epoch+1}: train_loss={train_loss:.6f}, val_loss={val_loss:.6f}\")\n"
   ]
  },
  {
   "cell_type": "code",
   "execution_count": null,
   "id": "35cce926",
   "metadata": {},
   "outputs": [
    {
     "name": "stdout",
     "output_type": "stream",
     "text": [
      "kNN Test MSE: 0.3093\n"
     ]
    }
   ],
   "source": [
    "from sklearn.neighbors import KNeighborsRegressor\n",
    "from sklearn.model_selection import train_test_split\n",
    "from sklearn.metrics import mean_squared_error\n",
    "\n",
    "# Flatten your features for kNN (N, 7, 7) -> (N, 49)\n",
    "X = features.reshape(features.shape[0], -1)\n",
    "y = targets  # (N, 7)\n",
    "\n",
    "# Normalize y for kNN\n",
    "scaler_y = StandardScaler()\n",
    "y_norm = scaler_y.fit_transform(y)\n",
    "\n",
    "#x too\n",
    "\n",
    "scaler_X = StandardScaler()\n",
    "X_norm = scaler_X.fit_transform(X)\n",
    "\n",
    "# Train/test split\n",
    "X_train, X_test, y_train, y_test = train_test_split(X_norm, y_norm, test_size=0.2, random_state=42)\n",
    "\n",
    "# Fit kNN regressor\n",
    "knn = KNeighborsRegressor(n_neighbors=5)\n",
    "knn.fit(X_train, y_train)\n",
    "\n",
    "# Predict and evaluate\n",
    "y_pred = knn.predict(X_test)\n",
    "mse = mean_squared_error(y_test, y_pred)\n",
    "print(f\"kNN Test MSE: {mse:.4f}\")\n"
   ]
  },
  {
   "cell_type": "code",
   "execution_count": null,
   "id": "cb1f8df7",
   "metadata": {},
   "outputs": [
    {
     "name": "stderr",
     "output_type": "stream",
     "text": [
      "Test: 100%|██████████| 111/111 [00:00<00:00, 627.66it/s]\n"
     ]
    }
   ],
   "source": [
    "# Test set evaluation for transformer\n",
    "model.eval()\n",
    "test_loss = 0\n",
    "y_pred_list = []\n",
    "y_true_list = []\n",
    "\n",
    "with torch.no_grad():\n",
    "    for xb, yb in tqdm(test_loader, desc=\"Test\"):\n",
    "        xb, yb = xb.to(device), yb.to(device)\n",
    "        pred = model(xb)\n",
    "        y_pred_list.append(pred.cpu().numpy())\n",
    "        y_true_list.append(yb.cpu().numpy())\n",
    "        loss = loss_fn(pred, yb)\n",
    "        test_loss += loss.item() * xb.size(0)\n",
    "test_loss /= len(test_dataset)\n",
    "\n",
    "# Stack all batches into full arrays\n",
    "y_pred = np.vstack(y_pred_list)\n",
    "y_test = np.vstack(y_true_list)\n"
   ]
  },
  {
   "cell_type": "code",
   "execution_count": null,
   "id": "f79c157a",
   "metadata": {},
   "outputs": [
    {
     "name": "stdout",
     "output_type": "stream",
     "text": [
      "Transformer Test MSE: 3.5534\n"
     ]
    }
   ],
   "source": [
    "# calculate test mse for transformer\n",
    "mse_transformer = mean_squared_error(y_test, y_pred)\n",
    "print(f\"Transformer Test MSE: {mse_transformer:.4f}\")   "
   ]
  },
  {
   "cell_type": "code",
   "execution_count": null,
   "id": "73ce7e6a",
   "metadata": {},
   "outputs": [
    {
     "name": "stdout",
     "output_type": "stream",
     "text": [
      "hello\n"
     ]
    }
   ],
   "source": [
    "print(\"hello\")"
   ]
  },
  {
   "cell_type": "code",
   "execution_count": null,
   "id": "0de1f266",
   "metadata": {},
   "outputs": [
    {
     "data": {
      "image/png": "[encoded data removed]",
      "text/plain": [
       "<Figure size 500x500 with 1 Axes>"
      ]
     },
     "metadata": {},
     "output_type": "display_data"
    },
    {
     "data": {
      "image/png": "[encoded data removed]",
      "text/plain": [
       "<Figure size 500x500 with 1 Axes>"
      ]
     },
     "metadata": {},
     "output_type": "display_data"
    },
    {
     "data": {
      "image/png": "[encoded data removed]",
      "text/plain": [
       "<Figure size 500x500 with 1 Axes>"
      ]
     },
     "metadata": {},
     "output_type": "display_data"
    },
    {
     "data": {
      "image/png": "[encoded data removed]",
      "text/plain": [
       "<Figure size 500x500 with 1 Axes>"
      ]
     },
     "metadata": {},
     "output_type": "display_data"
    },
    {
     "data": {
      "image/png": "[encoded data removed]",
      "text/plain": [
       "<Figure size 500x500 with 1 Axes>"
      ]
     },
     "metadata": {},
     "output_type": "display_data"
    }
   ],
   "source": [
    "import matplotlib.pyplot as plt\n",
    "import numpy as np\n",
    "\n",
    "# y_test: true values, shape (N, num_features)\n",
    "# y_pred: predicted values, shape (N, num_features)\n",
    "# feature_names: list of names for each target feature\n",
    "\n",
    "feature_names = ['x', 'y', 'z', 'rx', 'ry']  # or ['x', 'y', 'z', 'qx', 'qy', 'qz', 'qw']\n",
    "\n",
    "for i, name in enumerate(feature_names):\n",
    "    plt.figure(figsize=(5,5))\n",
    "    plt.scatter(y_test[:, i], y_pred[:, i], alpha=0.5)\n",
    "    plt.plot([y_test[:, i].min(), y_test[:, i].max()],\n",
    "             [y_test[:, i].min(), y_test[:, i].max()], 'r--', label='Ideal')\n",
    "    plt.xlabel('True {}'.format(name))\n",
    "    plt.ylabel('Predicted {}'.format(name))\n",
    "    plt.title('Truth vs. Predicted for {}'.format(name))\n",
    "    plt.legend()\n",
    "    plt.grid(True)\n",
    "    plt.show()\n"
   ]
  },
  {
   "cell_type": "code",
   "execution_count": null,
   "id": "a240913c",
   "metadata": {},
   "outputs": [],
   "source": [
    "#save model\n",
    "torch.save(model.state_dict(), 'magnet_transformer_model.pth')"
   ]
  },
  {
   "cell_type": "code",
   "execution_count": null,
   "id": "def7e257",
   "metadata": {},
   "outputs": [
    {
     "data": {
      "text/html": [
       "<style>#sk-container-id-2 {\n",
       "  /* Definition of color scheme common for light and dark mode */\n",
       "  --sklearn-color-text: #000;\n",
       "  --sklearn-color-text-muted: #666;\n",
       "  --sklearn-color-line: gray;\n",
       "  /* Definition of color scheme for unfitted estimators */\n",
       "  --sklearn-color-unfitted-level-0: #fff5e6;\n",
       "  --sklearn-color-unfitted-level-1: #f6e4d2;\n",
       "  --sklearn-color-unfitted-level-2: #ffe0b3;\n",
       "  --sklearn-color-unfitted-level-3: chocolate;\n",
       "  /* Definition of color scheme for fitted estimators */\n",
       "  --sklearn-color-fitted-level-0: #f0f8ff;\n",
       "  --sklearn-color-fitted-level-1: #d4ebff;\n",
       "  --sklearn-color-fitted-level-2: #b3dbfd;\n",
       "  --sklearn-color-fitted-level-3: cornflowerblue;\n",
       "\n",
       "  /* Specific color for light theme */\n",
       "  --sklearn-color-text-on-default-background: var(--sg-text-color, var(--theme-code-foreground, var(--jp-content-font-color1, black)));\n",
       "  --sklearn-color-background: var(--sg-background-color, var(--theme-background, var(--jp-layout-color0, white)));\n",
       "  --sklearn-color-border-box: var(--sg-text-color, var(--theme-code-foreground, var(--jp-content-font-color1, black)));\n",
       "  --sklearn-color-icon: #696969;\n",
       "\n",
       "  @media (prefers-color-scheme: dark) {\n",
       "    /* Redefinition of color scheme for dark theme */\n",
       "    --sklearn-color-text-on-default-background: var(--sg-text-color, var(--theme-code-foreground, var(--jp-content-font-color1, white)));\n",
       "    --sklearn-color-background: var(--sg-background-color, var(--theme-background, var(--jp-layout-color0, #111)));\n",
       "    --sklearn-color-border-box: var(--sg-text-color, var(--theme-code-foreground, var(--jp-content-font-color1, white)));\n",
       "    --sklearn-color-icon: #878787;\n",
       "  }\n",
       "}\n",
       "\n",
       "#sk-container-id-2 {\n",
       "  color: var(--sklearn-color-text);\n",
       "}\n",
       "\n",
       "#sk-container-id-2 pre {\n",
       "  padding: 0;\n",
       "}\n",
       "\n",
       "#sk-container-id-2 input.sk-hidden--visually {\n",
       "  border: 0;\n",
       "  clip: rect(1px 1px 1px 1px);\n",
       "  clip: rect(1px, 1px, 1px, 1px);\n",
       "  height: 1px;\n",
       "  margin: -1px;\n",
       "  overflow: hidden;\n",
       "  padding: 0;\n",
       "  position: absolute;\n",
       "  width: 1px;\n",
       "}\n",
       "\n",
       "#sk-container-id-2 div.sk-dashed-wrapped {\n",
       "  border: 1px dashed var(--sklearn-color-line);\n",
       "  margin: 0 0.4em 0.5em 0.4em;\n",
       "  box-sizing: border-box;\n",
       "  padding-bottom: 0.4em;\n",
       "  background-color: var(--sklearn-color-background);\n",
       "}\n",
       "\n",
       "#sk-container-id-2 div.sk-container {\n",
       "  /* jupyter's `normalize.less` sets `[hidden] { display: none; }`\n",
       "     but bootstrap.min.css set `[hidden] { display: none !important; }`\n",
       "     so we also need the `!important` here to be able to override the\n",
       "     default hidden behavior on the sphinx rendered scikit-learn.org.\n",
       "     See: https://github.com/scikit-learn/scikit-learn/issues/21755 */\n",
       "  display: inline-block !important;\n",
       "  position: relative;\n",
       "}\n",
       "\n",
       "#sk-container-id-2 div.sk-text-repr-fallback {\n",
       "  display: none;\n",
       "}\n",
       "\n",
       "div.sk-parallel-item,\n",
       "div.sk-serial,\n",
       "div.sk-item {\n",
       "  /* draw centered vertical line to link estimators */\n",
       "  background-image: linear-gradient(var(--sklearn-color-text-on-default-background), var(--sklearn-color-text-on-default-background));\n",
       "  background-size: 2px 100%;\n",
       "  background-repeat: no-repeat;\n",
       "  background-position: center center;\n",
       "}\n",
       "\n",
       "/* Parallel-specific style estimator block */\n",
       "\n",
       "#sk-container-id-2 div.sk-parallel-item::after {\n",
       "  content: \"\";\n",
       "  width: 100%;\n",
       "  border-bottom: 2px solid var(--sklearn-color-text-on-default-background);\n",
       "  flex-grow: 1;\n",
       "}\n",
       "\n",
       "#sk-container-id-2 div.sk-parallel {\n",
       "  display: flex;\n",
       "  align-items: stretch;\n",
       "  justify-content: center;\n",
       "  background-color: var(--sklearn-color-background);\n",
       "  position: relative;\n",
       "}\n",
       "\n",
       "#sk-container-id-2 div.sk-parallel-item {\n",
       "  display: flex;\n",
       "  flex-direction: column;\n",
       "}\n",
       "\n",
       "#sk-container-id-2 div.sk-parallel-item:first-child::after {\n",
       "  align-self: flex-end;\n",
       "  width: 50%;\n",
       "}\n",
       "\n",
       "#sk-container-id-2 div.sk-parallel-item:last-child::after {\n",
       "  align-self: flex-start;\n",
       "  width: 50%;\n",
       "}\n",
       "\n",
       "#sk-container-id-2 div.sk-parallel-item:only-child::after {\n",
       "  width: 0;\n",
       "}\n",
       "\n",
       "/* Serial-specific style estimator block */\n",
       "\n",
       "#sk-container-id-2 div.sk-serial {\n",
       "  display: flex;\n",
       "  flex-direction: column;\n",
       "  align-items: center;\n",
       "  background-color: var(--sklearn-color-background);\n",
       "  padding-right: 1em;\n",
       "  padding-left: 1em;\n",
       "}\n",
       "\n",
       "\n",
       "/* Toggleable style: style used for estimator/Pipeline/ColumnTransformer box that is\n",
       "clickable and can be expanded/collapsed.\n",
       "- Pipeline and ColumnTransformer use this feature and define the default style\n",
       "- Estimators will overwrite some part of the style using the `sk-estimator` class\n",
       "*/\n",
       "\n",
       "/* Pipeline and ColumnTransformer style (default) */\n",
       "\n",
       "#sk-container-id-2 div.sk-toggleable {\n",
       "  /* Default theme specific background. It is overwritten whether we have a\n",
       "  specific estimator or a Pipeline/ColumnTransformer */\n",
       "  background-color: var(--sklearn-color-background);\n",
       "}\n",
       "\n",
       "/* Toggleable label */\n",
       "#sk-container-id-2 label.sk-toggleable__label {\n",
       "  cursor: pointer;\n",
       "  display: flex;\n",
       "  width: 100%;\n",
       "  margin-bottom: 0;\n",
       "  padding: 0.5em;\n",
       "  box-sizing: border-box;\n",
       "  text-align: center;\n",
       "  align-items: start;\n",
       "  justify-content: space-between;\n",
       "  gap: 0.5em;\n",
       "}\n",
       "\n",
       "#sk-container-id-2 label.sk-toggleable__label .caption {\n",
       "  font-size: 0.6rem;\n",
       "  font-weight: lighter;\n",
       "  color: var(--sklearn-color-text-muted);\n",
       "}\n",
       "\n",
       "#sk-container-id-2 label.sk-toggleable__label-arrow:before {\n",
       "  /* Arrow on the left of the label */\n",
       "  content: \"▸\";\n",
       "  float: left;\n",
       "  margin-right: 0.25em;\n",
       "  color: var(--sklearn-color-icon);\n",
       "}\n",
       "\n",
       "#sk-container-id-2 label.sk-toggleable__label-arrow:hover:before {\n",
       "  color: var(--sklearn-color-text);\n",
       "}\n",
       "\n",
       "/* Toggleable content - dropdown */\n",
       "\n",
       "#sk-container-id-2 div.sk-toggleable__content {\n",
       "  display: none;\n",
       "  text-align: left;\n",
       "  /* unfitted */\n",
       "  background-color: var(--sklearn-color-unfitted-level-0);\n",
       "}\n",
       "\n",
       "#sk-container-id-2 div.sk-toggleable__content.fitted {\n",
       "  /* fitted */\n",
       "  background-color: var(--sklearn-color-fitted-level-0);\n",
       "}\n",
       "\n",
       "#sk-container-id-2 div.sk-toggleable__content pre {\n",
       "  margin: 0.2em;\n",
       "  border-radius: 0.25em;\n",
       "  color: var(--sklearn-color-text);\n",
       "  /* unfitted */\n",
       "  background-color: var(--sklearn-color-unfitted-level-0);\n",
       "}\n",
       "\n",
       "#sk-container-id-2 div.sk-toggleable__content.fitted pre {\n",
       "  /* unfitted */\n",
       "  background-color: var(--sklearn-color-fitted-level-0);\n",
       "}\n",
       "\n",
       "#sk-container-id-2 input.sk-toggleable__control:checked~div.sk-toggleable__content {\n",
       "  /* Expand drop-down */\n",
       "  display: block;\n",
       "  width: 100%;\n",
       "  overflow: visible;\n",
       "}\n",
       "\n",
       "#sk-container-id-2 input.sk-toggleable__control:checked~label.sk-toggleable__label-arrow:before {\n",
       "  content: \"▾\";\n",
       "}\n",
       "\n",
       "/* Pipeline/ColumnTransformer-specific style */\n",
       "\n",
       "#sk-container-id-2 div.sk-label input.sk-toggleable__control:checked~label.sk-toggleable__label {\n",
       "  color: var(--sklearn-color-text);\n",
       "  background-color: var(--sklearn-color-unfitted-level-2);\n",
       "}\n",
       "\n",
       "#sk-container-id-2 div.sk-label.fitted input.sk-toggleable__control:checked~label.sk-toggleable__label {\n",
       "  background-color: var(--sklearn-color-fitted-level-2);\n",
       "}\n",
       "\n",
       "/* Estimator-specific style */\n",
       "\n",
       "/* Colorize estimator box */\n",
       "#sk-container-id-2 div.sk-estimator input.sk-toggleable__control:checked~label.sk-toggleable__label {\n",
       "  /* unfitted */\n",
       "  background-color: var(--sklearn-color-unfitted-level-2);\n",
       "}\n",
       "\n",
       "#sk-container-id-2 div.sk-estimator.fitted input.sk-toggleable__control:checked~label.sk-toggleable__label {\n",
       "  /* fitted */\n",
       "  background-color: var(--sklearn-color-fitted-level-2);\n",
       "}\n",
       "\n",
       "#sk-container-id-2 div.sk-label label.sk-toggleable__label,\n",
       "#sk-container-id-2 div.sk-label label {\n",
       "  /* The background is the default theme color */\n",
       "  color: var(--sklearn-color-text-on-default-background);\n",
       "}\n",
       "\n",
       "/* On hover, darken the color of the background */\n",
       "#sk-container-id-2 div.sk-label:hover label.sk-toggleable__label {\n",
       "  color: var(--sklearn-color-text);\n",
       "  background-color: var(--sklearn-color-unfitted-level-2);\n",
       "}\n",
       "\n",
       "/* Label box, darken color on hover, fitted */\n",
       "#sk-container-id-2 div.sk-label.fitted:hover label.sk-toggleable__label.fitted {\n",
       "  color: var(--sklearn-color-text);\n",
       "  background-color: var(--sklearn-color-fitted-level-2);\n",
       "}\n",
       "\n",
       "/* Estimator label */\n",
       "\n",
       "#sk-container-id-2 div.sk-label label {\n",
       "  font-family: monospace;\n",
       "  font-weight: bold;\n",
       "  display: inline-block;\n",
       "  line-height: 1.2em;\n",
       "}\n",
       "\n",
       "#sk-container-id-2 div.sk-label-container {\n",
       "  text-align: center;\n",
       "}\n",
       "\n",
       "/* Estimator-specific */\n",
       "#sk-container-id-2 div.sk-estimator {\n",
       "  font-family: monospace;\n",
       "  border: 1px dotted var(--sklearn-color-border-box);\n",
       "  border-radius: 0.25em;\n",
       "  box-sizing: border-box;\n",
       "  margin-bottom: 0.5em;\n",
       "  /* unfitted */\n",
       "  background-color: var(--sklearn-color-unfitted-level-0);\n",
       "}\n",
       "\n",
       "#sk-container-id-2 div.sk-estimator.fitted {\n",
       "  /* fitted */\n",
       "  background-color: var(--sklearn-color-fitted-level-0);\n",
       "}\n",
       "\n",
       "/* on hover */\n",
       "#sk-container-id-2 div.sk-estimator:hover {\n",
       "  /* unfitted */\n",
       "  background-color: var(--sklearn-color-unfitted-level-2);\n",
       "}\n",
       "\n",
       "#sk-container-id-2 div.sk-estimator.fitted:hover {\n",
       "  /* fitted */\n",
       "  background-color: var(--sklearn-color-fitted-level-2);\n",
       "}\n",
       "\n",
       "/* Specification for estimator info (e.g. \"i\" and \"?\") */\n",
       "\n",
       "/* Common style for \"i\" and \"?\" */\n",
       "\n",
       ".sk-estimator-doc-link,\n",
       "a:link.sk-estimator-doc-link,\n",
       "a:visited.sk-estimator-doc-link {\n",
       "  float: right;\n",
       "  font-size: smaller;\n",
       "  line-height: 1em;\n",
       "  font-family: monospace;\n",
       "  background-color: var(--sklearn-color-background);\n",
       "  border-radius: 1em;\n",
       "  height: 1em;\n",
       "  width: 1em;\n",
       "  text-decoration: none !important;\n",
       "  margin-left: 0.5em;\n",
       "  text-align: center;\n",
       "  /* unfitted */\n",
       "  border: var(--sklearn-color-unfitted-level-1) 1pt solid;\n",
       "  color: var(--sklearn-color-unfitted-level-1);\n",
       "}\n",
       "\n",
       ".sk-estimator-doc-link.fitted,\n",
       "a:link.sk-estimator-doc-link.fitted,\n",
       "a:visited.sk-estimator-doc-link.fitted {\n",
       "  /* fitted */\n",
       "  border: var(--sklearn-color-fitted-level-1) 1pt solid;\n",
       "  color: var(--sklearn-color-fitted-level-1);\n",
       "}\n",
       "\n",
       "/* On hover */\n",
       "div.sk-estimator:hover .sk-estimator-doc-link:hover,\n",
       ".sk-estimator-doc-link:hover,\n",
       "div.sk-label-container:hover .sk-estimator-doc-link:hover,\n",
       ".sk-estimator-doc-link:hover {\n",
       "  /* unfitted */\n",
       "  background-color: var(--sklearn-color-unfitted-level-3);\n",
       "  color: var(--sklearn-color-background);\n",
       "  text-decoration: none;\n",
       "}\n",
       "\n",
       "div.sk-estimator.fitted:hover .sk-estimator-doc-link.fitted:hover,\n",
       ".sk-estimator-doc-link.fitted:hover,\n",
       "div.sk-label-container:hover .sk-estimator-doc-link.fitted:hover,\n",
       ".sk-estimator-doc-link.fitted:hover {\n",
       "  /* fitted */\n",
       "  background-color: var(--sklearn-color-fitted-level-3);\n",
       "  color: var(--sklearn-color-background);\n",
       "  text-decoration: none;\n",
       "}\n",
       "\n",
       "/* Span, style for the box shown on hovering the info icon */\n",
       ".sk-estimator-doc-link span {\n",
       "  display: none;\n",
       "  z-index: 9999;\n",
       "  position: relative;\n",
       "  font-weight: normal;\n",
       "  right: .2ex;\n",
       "  padding: .5ex;\n",
       "  margin: .5ex;\n",
       "  width: min-content;\n",
       "  min-width: 20ex;\n",
       "  max-width: 50ex;\n",
       "  color: var(--sklearn-color-text);\n",
       "  box-shadow: 2pt 2pt 4pt #999;\n",
       "  /* unfitted */\n",
       "  background: var(--sklearn-color-unfitted-level-0);\n",
       "  border: .5pt solid var(--sklearn-color-unfitted-level-3);\n",
       "}\n",
       "\n",
       ".sk-estimator-doc-link.fitted span {\n",
       "  /* fitted */\n",
       "  background: var(--sklearn-color-fitted-level-0);\n",
       "  border: var(--sklearn-color-fitted-level-3);\n",
       "}\n",
       "\n",
       ".sk-estimator-doc-link:hover span {\n",
       "  display: block;\n",
       "}\n",
       "\n",
       "/* \"?\"-specific style due to the `<a>` HTML tag */\n",
       "\n",
       "#sk-container-id-2 a.estimator_doc_link {\n",
       "  float: right;\n",
       "  font-size: 1rem;\n",
       "  line-height: 1em;\n",
       "  font-family: monospace;\n",
       "  background-color: var(--sklearn-color-background);\n",
       "  border-radius: 1rem;\n",
       "  height: 1rem;\n",
       "  width: 1rem;\n",
       "  text-decoration: none;\n",
       "  /* unfitted */\n",
       "  color: var(--sklearn-color-unfitted-level-1);\n",
       "  border: var(--sklearn-color-unfitted-level-1) 1pt solid;\n",
       "}\n",
       "\n",
       "#sk-container-id-2 a.estimator_doc_link.fitted {\n",
       "  /* fitted */\n",
       "  border: var(--sklearn-color-fitted-level-1) 1pt solid;\n",
       "  color: var(--sklearn-color-fitted-level-1);\n",
       "}\n",
       "\n",
       "/* On hover */\n",
       "#sk-container-id-2 a.estimator_doc_link:hover {\n",
       "  /* unfitted */\n",
       "  background-color: var(--sklearn-color-unfitted-level-3);\n",
       "  color: var(--sklearn-color-background);\n",
       "  text-decoration: none;\n",
       "}\n",
       "\n",
       "#sk-container-id-2 a.estimator_doc_link.fitted:hover {\n",
       "  /* fitted */\n",
       "  background-color: var(--sklearn-color-fitted-level-3);\n",
       "}\n",
       "\n",
       ".estimator-table summary {\n",
       "    padding: .5rem;\n",
       "    font-family: monospace;\n",
       "    cursor: pointer;\n",
       "}\n",
       "\n",
       ".estimator-table details[open] {\n",
       "    padding-left: 0.1rem;\n",
       "    padding-right: 0.1rem;\n",
       "    padding-bottom: 0.3rem;\n",
       "}\n",
       "\n",
       ".estimator-table .parameters-table {\n",
       "    margin-left: auto !important;\n",
       "    margin-right: auto !important;\n",
       "}\n",
       "\n",
       ".estimator-table .parameters-table tr:nth-child(odd) {\n",
       "    background-color: #fff;\n",
       "}\n",
       "\n",
       ".estimator-table .parameters-table tr:nth-child(even) {\n",
       "    background-color: #f6f6f6;\n",
       "}\n",
       "\n",
       ".estimator-table .parameters-table tr:hover {\n",
       "    background-color: #e0e0e0;\n",
       "}\n",
       "\n",
       ".estimator-table table td {\n",
       "    border: 1px solid rgba(106, 105, 104, 0.232);\n",
       "}\n",
       "\n",
       ".user-set td {\n",
       "    color:rgb(255, 94, 0);\n",
       "    text-align: left;\n",
       "}\n",
       "\n",
       ".user-set td.value pre {\n",
       "    color:rgb(255, 94, 0) !important;\n",
       "    background-color: transparent !important;\n",
       "}\n",
       "\n",
       ".default td {\n",
       "    color: black;\n",
       "    text-align: left;\n",
       "}\n",
       "\n",
       ".user-set td i,\n",
       ".default td i {\n",
       "    color: black;\n",
       "}\n",
       "\n",
       ".copy-paste-icon {\n",
       "    background-image: url(data:image/svg+xml;base64,PHN2ZyB4bWxucz0iaHR0cDovL3d3dy53My5vcmcvMjAwMC9zdmciIHZpZXdCb3g9IjAgMCA0NDggNTEyIj48IS0tIUZvbnQgQXdlc29tZSBGcmVlIDYuNy4yIGJ5IEBmb250YXdlc29tZSAtIGh0dHBzOi8vZm9udGF3ZXNvbWUuY29tIExpY2Vuc2UgLSBodHRwczovL2ZvbnRhd2Vzb21lLmNvbS9saWNlbnNlL2ZyZWUgQ29weXJpZ2h0IDIwMjUgRm9udGljb25zLCBJbmMuLS0+PHBhdGggZD0iTTIwOCAwTDMzMi4xIDBjMTIuNyAwIDI0LjkgNS4xIDMzLjkgMTQuMWw2Ny45IDY3LjljOSA5IDE0LjEgMjEuMiAxNC4xIDMzLjlMNDQ4IDMzNmMwIDI2LjUtMjEuNSA0OC00OCA0OGwtMTkyIDBjLTI2LjUgMC00OC0yMS41LTQ4LTQ4bDAtMjg4YzAtMjYuNSAyMS41LTQ4IDQ4LTQ4ek00OCAxMjhsODAgMCAwIDY0LTY0IDAgMCAyNTYgMTkyIDAgMC0zMiA2NCAwIDAgNDhjMCAyNi41LTIxLjUgNDgtNDggNDhMNDggNTEyYy0yNi41IDAtNDgtMjEuNS00OC00OEwwIDE3NmMwLTI2LjUgMjEuNS00OCA0OC00OHoiLz48L3N2Zz4=);\n",
       "    background-repeat: no-repeat;\n",
       "    background-size: 14px 14px;\n",
       "    background-position: 0;\n",
       "    display: inline-block;\n",
       "    width: 14px;\n",
       "    height: 14px;\n",
       "    cursor: pointer;\n",
       "}\n",
       "</style><body><div id=\"sk-container-id-2\" class=\"sk-top-container\"><div class=\"sk-text-repr-fallback\"><pre>StandardScaler()</pre><b>In a Jupyter environment, please rerun this cell to show the HTML representation or trust the notebook. <br />On GitHub, the HTML representation is unable to render, please try loading this page with nbviewer.org.</b></div><div class=\"sk-container\" hidden><div class=\"sk-item\"><div class=\"sk-estimator fitted sk-toggleable\"><input class=\"sk-toggleable__control sk-hidden--visually\" id=\"sk-estimator-id-2\" type=\"checkbox\" checked><label for=\"sk-estimator-id-2\" class=\"sk-toggleable__label fitted sk-toggleable__label-arrow\"><div><div>StandardScaler</div></div><div><a class=\"sk-estimator-doc-link fitted\" rel=\"noreferrer\" target=\"_blank\" href=\"https://scikit-learn.org/1.7/modules/generated/sklearn.preprocessing.StandardScaler.html\">?<span>Documentation for StandardScaler</span></a><span class=\"sk-estimator-doc-link fitted\">i<span>Fitted</span></span></div></label><div class=\"sk-toggleable__content fitted\" data-param-prefix=\"\">\n",
       "        <div class=\"estimator-table\">\n",
       "            <details>\n",
       "                <summary>Parameters</summary>\n",
       "                <table class=\"parameters-table\">\n",
       "                  <tbody>\n",
       "                    \n",
       "        <tr class=\"default\">\n",
       "            <td><i class=\"copy-paste-icon\"\n",
       "                 onclick=\"copyToClipboard('copy',\n",
       "                          this.parentElement.nextElementSibling)\"\n",
       "            ></i></td>\n",
       "            <td class=\"param\">copy&nbsp;</td>\n",
       "            <td class=\"value\">True</td>\n",
       "        </tr>\n",
       "    \n",
       "\n",
       "        <tr class=\"default\">\n",
       "            <td><i class=\"copy-paste-icon\"\n",
       "                 onclick=\"copyToClipboard('with_mean',\n",
       "                          this.parentElement.nextElementSibling)\"\n",
       "            ></i></td>\n",
       "            <td class=\"param\">with_mean&nbsp;</td>\n",
       "            <td class=\"value\">True</td>\n",
       "        </tr>\n",
       "    \n",
       "\n",
       "        <tr class=\"default\">\n",
       "            <td><i class=\"copy-paste-icon\"\n",
       "                 onclick=\"copyToClipboard('with_std',\n",
       "                          this.parentElement.nextElementSibling)\"\n",
       "            ></i></td>\n",
       "            <td class=\"param\">with_std&nbsp;</td>\n",
       "            <td class=\"value\">True</td>\n",
       "        </tr>\n",
       "    \n",
       "                  </tbody>\n",
       "                </table>\n",
       "            </details>\n",
       "        </div>\n",
       "    </div></div></div></div></div><script>function copyToClipboard(text, element) {\n",
       "    // Get the parameter prefix from the closest toggleable content\n",
       "    const toggleableContent = element.closest('.sk-toggleable__content');\n",
       "    const paramPrefix = toggleableContent ? toggleableContent.dataset.paramPrefix : '';\n",
       "    const fullParamName = paramPrefix ? `${paramPrefix}${text}` : text;\n",
       "\n",
       "    const originalStyle = element.style;\n",
       "    const computedStyle = window.getComputedStyle(element);\n",
       "    const originalWidth = computedStyle.width;\n",
       "    const originalHTML = element.innerHTML.replace('Copied!', '');\n",
       "\n",
       "    navigator.clipboard.writeText(fullParamName)\n",
       "        .then(() => {\n",
       "            element.style.width = originalWidth;\n",
       "            element.style.color = 'green';\n",
       "            element.innerHTML = \"Copied!\";\n",
       "\n",
       "            setTimeout(() => {\n",
       "                element.innerHTML = originalHTML;\n",
       "                element.style = originalStyle;\n",
       "            }, 2000);\n",
       "        })\n",
       "        .catch(err => {\n",
       "            console.error('Failed to copy:', err);\n",
       "            element.style.color = 'red';\n",
       "            element.innerHTML = \"Failed!\";\n",
       "            setTimeout(() => {\n",
       "                element.innerHTML = originalHTML;\n",
       "                element.style = originalStyle;\n",
       "            }, 2000);\n",
       "        });\n",
       "    return false;\n",
       "}\n",
       "\n",
       "document.querySelectorAll('.fa-regular.fa-copy').forEach(function(element) {\n",
       "    const toggleableContent = element.closest('.sk-toggleable__content');\n",
       "    const paramPrefix = toggleableContent ? toggleableContent.dataset.paramPrefix : '';\n",
       "    const paramName = element.parentElement.nextElementSibling.textContent.trim();\n",
       "    const fullParamName = paramPrefix ? `${paramPrefix}${paramName}` : paramName;\n",
       "\n",
       "    element.setAttribute('title', fullParamName);\n",
       "});\n",
       "</script></body>"
      ],
      "text/plain": [
       "StandardScaler()"
      ]
     },
     "execution_count": 67,
     "metadata": {},
     "output_type": "execute_result"
    }
   ],
   "source": [
    "scaler_y"
   ]
  },
  {
   "cell_type": "code",
   "execution_count": null,
   "id": "96423bf1",
   "metadata": {},
   "outputs": [],
   "source": [
    "#load magnetic_data_testing.csv for testing the transformer model\n",
    "\n",
    "\n",
    "data = pd.read_csv('_data_collected/magnet_data_testing.csv')\n",
    "\n",
    "features = []\n",
    "for idx, row in data.iterrows():\n",
    "    sensor_tokens = []\n",
    "    for i, mask in enumerate(sensor_mask):\n",
    "        if mask:\n",
    "            start_col = 6 + i*3\n",
    "            readings = row.iloc[start_col:start_col+3].values.astype(np.float32)\n",
    "            readings_SI = readings * 1e-6  # Convert µT to T\n",
    "            pos = sensor_positions[i]\n",
    "            token = np.concatenate([pos, readings_SI, [MAGNET_STRENGTH]])  # [sensor_x, sensor_y, sensor_z, reading_x, reading_y, reading_z, strength]\n",
    "            sensor_tokens.append(token)\n",
    "    features.append(np.stack(sensor_tokens))\n",
    "features = np.array(features)  # shape (N, 7, 7)    \n",
    "features_flat = features.reshape(features.shape[0], -1)\n",
    "features_norm = scaler_X.transform(features_flat).reshape(features.shape[0], features.shape[1\n",
    "], features.shape[2])\n",
    "features_tensor = torch.tensor(features_norm, dtype=torch.float).to(device)\n",
    "\n",
    "model.eval()\n",
    "with torch.no_grad():\n",
    "    preds = model(features_tensor).cpu().numpy()\n",
    "#inverse transform preds\n",
    "preds_inv = scaler_y.inverse_transform(preds)\n",
    "\n"
   ]
  },
  {
   "cell_type": "code",
   "execution_count": null,
   "id": "c495a9b7",
   "metadata": {},
   "outputs": [
    {
     "name": "stdout",
     "output_type": "stream",
     "text": [
      "Position Error: Mean = 7.03 cm, Std = 5.53 cm\n",
      "Rotation Error: Mean = 123.18 deg, Std = 24.71 deg\n"
     ]
    }
   ],
   "source": [
    "#calculate error in cm for position and degrees for rotation\n",
    "true_positions = data[['x', 'y', 'z']].values\n",
    "pred_positions = preds_inv[:, :3]\n",
    "pos_errors = np.linalg.norm(true_positions - pred_positions, axis=1) * 100  # convert to cm\n",
    "mean_pos_error = np.mean(pos_errors)\n",
    "std_pos_error = np.std(pos_errors)\n",
    "print(f\"Position Error: Mean = {mean_pos_error:.2f} cm, Std = {std_pos_error:.2f} cm\")\n",
    "#calculate error in degrees for rotation\n",
    "true_rotations = data[['rx', 'ry', 'rz']].values\n",
    "pred_rotations = preds_inv[:, 3:6]\n",
    "rot_errors = np.linalg.norm(true_rotations - pred_rotations, axis=1) * 57.2958  # convert to degrees\n",
    "mean_rot_error = np.mean(rot_errors)\n",
    "std_rot_error = np.std(rot_errors)\n",
    "print(f\"Rotation Error: Mean = {mean_rot_error:.2f} deg, Std = {std_rot_error:.2f} deg\")"
   ]
  }
 ],
 "metadata": {
  "kernelspec": {
   "display_name": "magnet",
   "language": "python",
   "name": "python3"
  },
  "language_info": {
   "codemirror_mode": {
    "name": "ipython",
    "version": 3
   },
   "file_extension": ".py",
   "mimetype": "text/x-python",
   "name": "python",
   "nbconvert_exporter": "python",
   "pygments_lexer": "ipython3",
   "version": "3.13.5"
  }
 },
 "nbformat": 4,
 "nbformat_minor": 5
}
